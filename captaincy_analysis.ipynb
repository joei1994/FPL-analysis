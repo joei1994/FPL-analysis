{
 "cells": [
  {
   "cell_type": "code",
   "execution_count": 1,
   "metadata": {},
   "outputs": [],
   "source": [
    "import numpy as np\n",
    "import pandas as pd\n",
    "import matplotlib\n",
    "from matplotlib import pyplot as plt\n",
    "import seaborn as sns\n",
    "\n",
    "from IPython.core.debugger import set_trace\n",
    "import warnings\n",
    "warnings.filterwarnings('ignore')\n",
    "pd.set_option('display.max_columns', 500)"
   ]
  },
  {
   "cell_type": "code",
   "execution_count": 2,
   "metadata": {},
   "outputs": [],
   "source": [
    "data_path = './data'\n",
    "idlist_path = '/player_idlist.csv'\n",
    "players_path = '/players'\n",
    "season = '/2018-19'"
   ]
  },
  {
   "cell_type": "code",
   "execution_count": 3,
   "metadata": {},
   "outputs": [],
   "source": [
    "idlist = pd.read_csv(data_path + season + idlist_path)"
   ]
  },
  {
   "cell_type": "code",
   "execution_count": 4,
   "metadata": {},
   "outputs": [],
   "source": [
    "#create players\n",
    "players = pd.DataFrame()\n",
    "for index, row in idlist.iterrows():\n",
    "    first_name = row['first_name']\n",
    "    second_name = row['second_name']\n",
    "    player_id = row['id']\n",
    "    player_path = '/' + first_name + '_' + second_name + '_' + str(player_id)\n",
    "    \n",
    "    try:\n",
    "        player = pd.read_csv(data_path + season + players_path + player_path + '/gw.csv')\n",
    "    except FileNotFoundError:\n",
    "        pass\n",
    "    player['gw'] = np.arange(len(player)) + 1\n",
    "    player['player_id'] = player_id\n",
    "    players = pd.concat([players, player], axis=0)"
   ]
  },
  {
   "cell_type": "code",
   "execution_count": 5,
   "metadata": {},
   "outputs": [],
   "source": [
    "#load teams data\n",
    "teams = pd.read_csv(data_path + season + '/teams_raw.csv')\n",
    "teams.rename(columns={'id': 'team_id'}, inplace=True)\n",
    "\n",
    "#load element_types data\n",
    "element_types = pd.read_csv(data_path + season + '/element_types_raw.csv')\n",
    "element_types.drop(columns=['plural_name', 'plural_name_short'],inplace=True)\n",
    "element_types.rename(columns={'id':'element_type_id', 'singular_name': 'position_name', 'singular_name_short' : 'position_short'}, inplace=True)\n",
    "\n",
    "#load player_cleaned data\n",
    "cleaned_players = pd.read_csv(data_path + season + '/cleaned_players.csv')\n",
    "cleaned_players.rename(columns={'id':'player_id'}, inplace=True)"
   ]
  },
  {
   "cell_type": "code",
   "execution_count": 6,
   "metadata": {},
   "outputs": [],
   "source": [
    "#prepare players data\n",
    "players = pd.merge(players, cleaned_players.loc[:,['player_id', 'first_name', 'second_name', 'team', 'element_type']], on='player_id')\n",
    "\n",
    "#merge team name\n",
    "players = pd.merge(players, teams.loc[:, ['team_id', 'name']], left_on='team', right_on='team_id')\n",
    "players.drop(columns=['team_id', 'team'], inplace=True)\n",
    "players.rename(columns={'name':'team'}, inplace=True)\n",
    "\n",
    "#merge element type \n",
    "players = pd.merge(players, element_types, left_on='element_type', right_on='element_type_id')\n",
    "players.drop(columns=['element_type', 'element_type_id'], inplace=True)\n",
    "players.rename(columns={'position_name':'position'}, inplace=True)\n",
    "\n",
    "#rename total_points to points\n",
    "players.rename(columns={'total_points':'points'}, inplace=True)"
   ]
  },
  {
   "cell_type": "code",
   "execution_count": 7,
   "metadata": {},
   "outputs": [],
   "source": [
    "#swap columns\n",
    "players = pd.concat([players.iloc[:, -7:], players.iloc[:, :-7]], axis=1)\n",
    "#add features\n",
    "#players['goal_consistency'] = players['goals_scored'] > 0\n",
    "#players['assist_consistency'] = players['assists'] > 0\n",
    "#players['goals_and_assists'] = players['goals_scored'] + players['assists']\n",
    "#players['goal_or_assist_consistency'] = players['goal_consistency'] | players['assist_consistency']"
   ]
  },
  {
   "cell_type": "code",
   "execution_count": 8,
   "metadata": {},
   "outputs": [],
   "source": [
    "def stat_by_was_home(player_id, stat, agg):\n",
    "    player = players.loc[players.player_id == player_id, :]\n",
    "    home = player.loc[player.was_home == True, :]\n",
    "    away = player.loc[player.was_home == False, :]\n",
    "    return home[stat].aggregate(agg), away[stat].aggregate(agg)"
   ]
  },
  {
   "cell_type": "code",
   "execution_count": 9,
   "metadata": {},
   "outputs": [],
   "source": [
    "def team_mates_stat_for_gw(player_id, gw, stat, agg):\n",
    "    team = players.loc[players.player_id == player_id, ['team']].iloc[0].values[0]\n",
    "    is_other = players['player_id'] != player_id\n",
    "    is_same_team = players['team'] == team\n",
    "    is_same_gw = players['gw'] == gw\n",
    "    is_played = players['minutes'] > 50\n",
    "    other = players.loc[is_other & is_same_team & is_same_gw & is_played, :]\n",
    "    return other[stat].aggregate(agg)\n",
    "\n",
    "def team_mates_stat_for_all_gws(player_id, stat, agg):\n",
    "    player = players.loc[players.player_id == player_id, :]\n",
    "    gws = player['gw']\n",
    "    results = pd.Series(list(map(lambda x: team_mates_stat_for_gw(player_id, x, stat, agg), gws)))\n",
    "    return list(results)\n",
    "\n",
    "def team_stat_for_n_gw_before(team, stat, agg, current_gw, n_gw_before):\n",
    "    if(current_gw > n_gw_before):\n",
    "        gw_range = np.arange(current_gw - n_gw_before, current_gw)\n",
    "        team_players = players.loc[([gw in gw_range for gw in players.gw]) & (players.team == team) & (players.minutes > 50), :]\n",
    "        result = team_players[stat].aggregate(agg)\n",
    "        return result\n",
    "    else:\n",
    "        return np.nan\n",
    "    \n",
    "def get_opponent_team(player_id, gw):\n",
    "    opponent_team_id = players.loc[(players.player_id == player_id) & (players.gw == gw), ['opponent_team']].iloc[0].values[0]\n",
    "    opponent_team = teams.loc[teams.team_id == opponent_team_id, 'name'].values[0]\n",
    "    return opponent_team\n",
    "\n",
    "def opponent_players_stat_n_gw_before_for_all_gws(player_id, stat, agg, n_gw_before):\n",
    "    player = players.loc[players.player_id == player_id, :]\n",
    "    gws = player['gw']\n",
    "    results = pd.Series(list(map(lambda x: team_stat_for_n_gw_before(get_opponent_team(player_id,x), stat, agg, x, n_gw_before), gws)))\n",
    "    return list(results)\n",
    "\n",
    "def create_new_stat(player, new_stat):\n",
    "    player_id = player.iloc[0]['player_id']\n",
    "    if new_stat == 'goal_consistency':\n",
    "        return player['goals_scored'] > 0\n",
    "    elif new_stat == 'assist_consistency':\n",
    "        return player['assists'] > 0\n",
    "    elif new_stat == 'goals_and_assists':\n",
    "        return player['goals_scored'] + player['assists']\n",
    "    elif new_stat == 'goal_or_assist_consistency':\n",
    "        return (player['goals_scored'] > 0) | (player['assists'] > 0)\n",
    "    elif new_stat == 'total_team_mates_ict_index':\n",
    "        return team_mates_stat_for_all_gws(player_id=player_id, stat='ict_index', agg=np.sum)\n",
    "    elif new_stat == 'mean_team_mates_ict_index':\n",
    "        return team_mates_stat_for_all_gws(player_id=player_id, stat='ict_index', agg=np.mean)\n",
    "    elif new_stat == 'total_opponent_players_ict_index':\n",
    "        return opponent_players_stat_for_all_gws(player_id=player_id, stat='ict_index', agg=np.sum)\n",
    "    elif new_stat == 'mean_opponent_players_ict_index':\n",
    "        return opponent_players_stat_for_all_gws(player_id=player_id, stat='ict_index', agg=np.mean)\n",
    "\n",
    "def player_stat_in_last_n_gw(player_id, stat, aggregate, n_gw):\n",
    "    player = players.loc[players.player_id == player_id, :]\n",
    "    if stat not in player.columns.values:\n",
    "        player[stat] = create_new_stat(player, stat)\n",
    "    \n",
    "    if(n_gw == 1):\n",
    "            return player[stat].shift(1)\n",
    "    else:\n",
    "            return player[stat].shift().rolling(min_periods=n_gw, window=n_gw).aggregate(aggregate)\n",
    "    \n",
    "    #if(player.shape[0] > n_gw):\n",
    "    #    if(n_gw == 1):\n",
    "    #        return player[stat].shift(1)\n",
    "    #    else:\n",
    "    #        return player[stat].shift().rolling(min_periods=n_gw, window=n_gw).aggregate(aggregate)\n",
    "    #else:\n",
    "    #    return pd.Series(np.full(player.shape[0], np.nan))\n",
    "\n",
    "def stat_last_n_gw(player_id, stat, aggregate, n_gw):\n",
    "    player = players.loc[players.player_id == player_id, :]\n",
    "    \n",
    "    if stat not in player.columns.values:\n",
    "        player[stat] = create_new_stat(player, stat)\n",
    "    \n",
    "    last_n_row = player.iloc[-n_gw:, :]\n",
    "    return [last_n_row[stat].aggregate(aggregate)]\n",
    "\n",
    "def create_X_train(player_id, predictors):\n",
    "    result = pd.DataFrame()\n",
    "    for predictor in predictors:\n",
    "        if predictor == 'total_goals_scored_1_gw_before':\n",
    "            result[predictor] = player_stat_in_last_n_gw(player_id=player_id, stat='goals_scored', aggregate=np.sum, n_gw=1)\n",
    "        elif predictor == 'total_goals_scored_2_gw_before':\n",
    "            result[predictor] = player_stat_in_last_n_gw(player_id=player_id, stat='goals_scored', aggregate=np.sum, n_gw=2)   \n",
    "        elif predictor == 'total_goals_scored_3_gw_before':\n",
    "            result[predictor] = player_stat_in_last_n_gw(player_id=player_id, stat='goals_scored', aggregate=np.sum, n_gw=3)\n",
    "            \n",
    "        elif predictor == 'total_assists_1_gw_before':\n",
    "            result[predictor] = player_stat_in_last_n_gw(player_id=player_id, stat='assists', aggregate=np.sum, n_gw=1)    \n",
    "        elif predictor == 'total_assists_2_gw_before':\n",
    "            result[predictor] = player_stat_in_last_n_gw(player_id=player_id, stat='assists', aggregate=np.sum, n_gw=2)\n",
    "        elif predictor == 'total_assists_3_gw_before':\n",
    "            result[predictor] = player_stat_in_last_n_gw(player_id=player_id, stat='assists', aggregate=np.sum, n_gw=3)\n",
    "            \n",
    "        elif predictor == 'total_goals_and_assists_1_gw_before':\n",
    "            result[predictor] = player_stat_in_last_n_gw(player_id=player_id, stat='goals_and_assists', aggregate=np.sum, n_gw=1)\n",
    "        elif predictor == 'total_goals_and_assists_2_gw_before':\n",
    "            result[predictor] = player_stat_in_last_n_gw(player_id=player_id, stat='goals_and_assists', aggregate=np.sum, n_gw=2)\n",
    "        elif predictor == 'total_goals_and_assists_3_gw_before':\n",
    "            result[predictor] = player_stat_in_last_n_gw(player_id=player_id, stat='goals_and_assists', aggregate=np.sum, n_gw=3) \n",
    "        \n",
    "        elif predictor == 'total_goal_consistencies_1_gw_before':\n",
    "            result[predictor] = player_stat_in_last_n_gw(player_id=player_id, stat='goal_consistency', aggregate=np.sum, n_gw=1)\n",
    "        elif predictor == 'total_goal_consistencies_2_gw_before':\n",
    "            result[predictor] = player_stat_in_last_n_gw(player_id=player_id, stat='goal_consistency', aggregate=np.sum, n_gw=2)\n",
    "        elif predictor == 'total_goal_consistencies_3_gw_before':\n",
    "            result[predictor] = player_stat_in_last_n_gw(player_id=player_id, stat='goal_consistency', aggregate=np.sum, n_gw=3)\n",
    "            \n",
    "        elif predictor == 'total_goal_or_assist_consistencies_1_gw_before':\n",
    "            result[predictor] = player_stat_in_last_n_gw(player_id=player_id, stat='goal_or_assist_consistency', aggregate=np.sum, n_gw=1)\n",
    "        elif predictor == 'total_goal_or_assist_consistencies_2_gw_before':\n",
    "            result[predictor] = player_stat_in_last_n_gw(player_id=player_id, stat='goal_or_assist_consistency', aggregate=np.sum, n_gw=2)\n",
    "        elif predictor == 'total_goal_or_assist_consistencies_3_gw_before':\n",
    "            result[predictor] = player_stat_in_last_n_gw(player_id=player_id, stat='goal_or_assist_consistency', aggregate=np.sum, n_gw=3)\n",
    "            \n",
    "        elif predictor == 'total_total_team_mates_ict_index_1_gw_bebore':\n",
    "            result[predictor] = player_stat_in_last_n_gw(player_id=player_id, stat='total_team_mates_ict_index', aggregate=np.sum, n_gw=1)\n",
    "        elif predictor == 'total_total_team_mates_ict_index_2_gw_bebore':\n",
    "            result[predictor] = player_stat_in_last_n_gw(player_id=player_id, stat='total_team_mates_ict_index', aggregate=np.sum, n_gw=2)\n",
    "        elif predictor == 'total_total_team_mates_ict_index_3_gw_bebore':\n",
    "            result[predictor] = player_stat_in_last_n_gw(player_id=player_id, stat='total_team_mates_ict_index', aggregate=np.sum, n_gw=3)\n",
    "        \n",
    "        elif predictor == 'total_total_team_opponent_players_ict_index_1_gw_bebore':\n",
    "            result[predictor] = opponent_players_stat_n_gw_before_for_all_gws(player_id=player_id,stat='ict_index', agg=np.sum, n_gw_before=1)\n",
    "        elif predictor == 'total_total_team_opponent_players_ict_index_2_gw_bebore':\n",
    "            result[predictor] = opponent_players_stat_n_gw_before_for_all_gws(player_id=player_id,stat='ict_index', agg=np.sum, n_gw_before=2)\n",
    "        elif predictor == 'total_total_team_opponent_players_ict_index_3_gw_bebore':\n",
    "            result[predictor] = opponent_players_stat_n_gw_before_for_all_gws(player_id=player_id,stat='ict_index', agg=np.sum, n_gw_before=3)\n",
    "            \n",
    "        elif predictor == 'was_home':\n",
    "            result[predictor] = players.loc[players.player_id == player_id, 'was_home']\n",
    "        \n",
    "    return result \n",
    "\n",
    "def create_y_train(player_id):\n",
    "    player = players.loc[players.player_id == player_id, :]\n",
    "    return player.goals_scored > 0\n",
    "\n",
    "def create_X_test(player_id, predictors, **kwargs):\n",
    "    result = pd.DataFrame()\n",
    "    for predictor in predictors:\n",
    "        if predictor == 'total_goals_scored_1_gw_before':\n",
    "            result[predictor] = stat_last_n_gw(player_id=player_id, stat='goals_scored', aggregate=np.sum, n_gw=1)\n",
    "        elif predictor == 'total_goals_scored_2_gw_before':\n",
    "            result[predictor] = stat_last_n_gw(player_id=player_id, stat='goals_scored', aggregate=np.sum, n_gw=2)   \n",
    "        elif predictor == 'total_goals_scored_3_gw_before':\n",
    "            result[predictor] = stat_last_n_gw(player_id=player_id, stat='goals_scored', aggregate=np.sum, n_gw=3)\n",
    "            \n",
    "        elif predictor == 'total_assists_1_gw_before':\n",
    "            result[predictor] = stat_last_n_gw(player_id=player_id, stat='assists', aggregate=np.sum, n_gw=1)    \n",
    "        elif predictor == 'total_assists_2_gw_before':\n",
    "            result[predictor] = stat_last_n_gw(player_id=player_id, stat='assists', aggregate=np.sum, n_gw=2)\n",
    "        elif predictor == 'total_assists_3_gw_before':\n",
    "            result[predictor] = stat_last_n_gw(player_id=player_id, stat='assists', aggregate=np.sum, n_gw=3)\n",
    "            \n",
    "        elif predictor == 'total_goals_and_assists_1_gw_before':\n",
    "            result[predictor] = stat_last_n_gw(player_id=player_id, stat='goals_and_assists', aggregate=np.sum, n_gw=1)\n",
    "        elif predictor == 'total_goals_and_assists_2_gw_before':\n",
    "            result[predictor] = stat_last_n_gw(player_id=player_id, stat='goals_and_assists', aggregate=np.sum, n_gw=2)\n",
    "        elif predictor == 'total_goals_and_assists_3_gw_before':\n",
    "            result[predictor] = stat_last_n_gw(player_id=player_id, stat='goals_and_assists', aggregate=np.sum, n_gw=3) \n",
    "        \n",
    "        elif predictor == 'total_goal_consistencies_1_gw_before':\n",
    "            result[predictor] = stat_last_n_gw(player_id=player_id, stat='goal_consistency', aggregate=np.sum, n_gw=1)\n",
    "        elif predictor == 'total_goal_consistencies_2_gw_before':\n",
    "            result[predictor] = stat_last_n_gw(player_id=player_id, stat='goal_consistency', aggregate=np.sum, n_gw=2)\n",
    "        elif predictor == 'total_goal_consistencies_3_gw_before':\n",
    "            result[predictor] = stat_last_n_gw(player_id=player_id, stat='goal_consistency', aggregate=np.sum, n_gw=3)\n",
    "            \n",
    "        elif predictor == 'total_goal_or_assist_consistencies_1_gw_before':\n",
    "            result[predictor] = stat_last_n_gw(player_id=player_id, stat='goal_or_assist_consistency', aggregate=np.sum, n_gw=1)\n",
    "        elif predictor == 'total_goal_or_assist_consistencies_2_gw_before':\n",
    "            result[predictor] = stat_last_n_gw(player_id=player_id, stat='goal_or_assist_consistency', aggregate=np.sum, n_gw=2)\n",
    "        elif predictor == 'total_goal_or_assist_consistencies_3_gw_before':\n",
    "            result[predictor] = stat_last_n_gw(player_id=player_id, stat='goal_or_assist_consistency', aggregate=np.sum, n_gw=3)\n",
    "            \n",
    "        elif predictor == 'total_total_team_mates_ict_index_1_gw_bebore':\n",
    "            result[predictor] = stat_last_n_gw(player_id=player_id, stat='total_team_mates_ict_index', aggregate=np.sum, n_gw=1)\n",
    "        elif predictor == 'total_total_team_mates_ict_index_2_gw_bebore':\n",
    "            result[predictor] = stat_last_n_gw(player_id=player_id, stat='total_team_mates_ict_index', aggregate=np.sum, n_gw=2)\n",
    "        elif predictor == 'total_total_team_mates_ict_index_3_gw_bebore':\n",
    "            result[predictor] = stat_last_n_gw(player_id=player_id, stat='total_team_mates_ict_index', aggregate=np.sum, n_gw=3)\n",
    "            \n",
    "        elif predictor == 'was_home':\n",
    "            result[predictor] = [kwargs['was_home']]\n",
    "                          \n",
    "        elif predictor == 'total_total_team_opponent_players_ict_index_1_gw_bebore':\n",
    "            result[predictor] = [team_stat_for_n_gw_before(team=kwargs['opponent_team'], stat='ict_index', agg=np.sum, current_gw=kwargs['current_gw'], n_gw_before=1)]\n",
    "        elif predictor == 'total_total_team_opponent_players_ict_index_2_gw_bebore':\n",
    "            result[predictor] = [team_stat_for_n_gw_before(team=kwargs['opponent_team'], stat='ict_index', agg=np.sum, current_gw=kwargs['current_gw'], n_gw_before=2)]\n",
    "        elif predictor == 'total_total_team_opponent_players_ict_index_3_gw_bebore':\n",
    "            result[predictor] = [team_stat_for_n_gw_before(team=kwargs['opponent_team'], stat='ict_index', agg=np.sum, current_gw=kwargs['current_gw'], n_gw_before=3)]      \n",
    "            \n",
    "    return result \n",
    "\n"
   ]
  },
  {
   "cell_type": "code",
   "execution_count": 10,
   "metadata": {},
   "outputs": [
    {
     "data": {
      "text/html": [
       "<div>\n",
       "<style scoped>\n",
       "    .dataframe tbody tr th:only-of-type {\n",
       "        vertical-align: middle;\n",
       "    }\n",
       "\n",
       "    .dataframe tbody tr th {\n",
       "        vertical-align: top;\n",
       "    }\n",
       "\n",
       "    .dataframe thead th {\n",
       "        text-align: right;\n",
       "    }\n",
       "</style>\n",
       "<table border=\"1\" class=\"dataframe\">\n",
       "  <thead>\n",
       "    <tr style=\"text-align: right;\">\n",
       "      <th></th>\n",
       "      <th>player_id</th>\n",
       "      <th>goals_scored</th>\n",
       "    </tr>\n",
       "  </thead>\n",
       "  <tbody>\n",
       "    <tr>\n",
       "      <th>279</th>\n",
       "      <td>280</td>\n",
       "      <td>17</td>\n",
       "    </tr>\n",
       "    <tr>\n",
       "      <th>252</th>\n",
       "      <td>253</td>\n",
       "      <td>17</td>\n",
       "    </tr>\n",
       "    <tr>\n",
       "      <th>22</th>\n",
       "      <td>23</td>\n",
       "      <td>15</td>\n",
       "    </tr>\n",
       "    <tr>\n",
       "      <th>371</th>\n",
       "      <td>372</td>\n",
       "      <td>14</td>\n",
       "    </tr>\n",
       "    <tr>\n",
       "      <th>269</th>\n",
       "      <td>270</td>\n",
       "      <td>12</td>\n",
       "    </tr>\n",
       "    <tr>\n",
       "      <th>121</th>\n",
       "      <td>122</td>\n",
       "      <td>12</td>\n",
       "    </tr>\n",
       "    <tr>\n",
       "      <th>250</th>\n",
       "      <td>251</td>\n",
       "      <td>12</td>\n",
       "    </tr>\n",
       "    <tr>\n",
       "      <th>301</th>\n",
       "      <td>302</td>\n",
       "      <td>11</td>\n",
       "    </tr>\n",
       "    <tr>\n",
       "      <th>366</th>\n",
       "      <td>367</td>\n",
       "      <td>11</td>\n",
       "    </tr>\n",
       "    <tr>\n",
       "      <th>392</th>\n",
       "      <td>393</td>\n",
       "      <td>10</td>\n",
       "    </tr>\n",
       "  </tbody>\n",
       "</table>\n",
       "</div>"
      ],
      "text/plain": [
       "     player_id  goals_scored\n",
       "279        280            17\n",
       "252        253            17\n",
       "22          23            15\n",
       "371        372            14\n",
       "269        270            12\n",
       "121        122            12\n",
       "250        251            12\n",
       "301        302            11\n",
       "366        367            11\n",
       "392        393            10"
      ]
     },
     "execution_count": 10,
     "metadata": {},
     "output_type": "execute_result"
    }
   ],
   "source": [
    "top_scorers = players.groupby('player_id', as_index=False)['goals_scored'].sum().sort_values('goals_scored',ascending=False)[:10]\n",
    "top_scorers"
   ]
  },
  {
   "cell_type": "code",
   "execution_count": 11,
   "metadata": {},
   "outputs": [],
   "source": [
    "from sklearn.model_selection import cross_val_score"
   ]
  },
  {
   "cell_type": "code",
   "execution_count": 12,
   "metadata": {},
   "outputs": [
    {
     "data": {
      "text/plain": [
       "array([[1., 0.]])"
      ]
     },
     "execution_count": 12,
     "metadata": {},
     "output_type": "execute_result"
    }
   ],
   "source": [
    "from sklearn.tree import DecisionTreeClassifier\n",
    "from sklearn.neighbors import KNeighborsClassifier\n",
    "\n",
    "#Pierre-Emerick Aubameyang\n",
    "player_id = 23\n",
    "predictors = ['total_goals_scored_1_gw_before', 'total_goals_scored_2_gw_before', 'total_goals_scored_3_gw_before' + 'total_total_team_mates_ict_index_1_gw_bebore' + 'total_total_team_mates_ict_index_12_gw_bebore' + 'total_total_team_mates_ict_index_3_gw_bebore', 'total_total_team_opponent_players_ict_index_1_gw_bebore', 'total_total_team_opponent_players_ict_index_2_gw_bebore', 'total_total_team_opponent_players_ict_index_3_gw_bebore', 'was_home']\n",
    "X_train = create_X_train(player_id, predictors)\n",
    "X_train.fillna(0, inplace=True)\n",
    "y_train = create_y_train(player_id)\n",
    "X_test = create_X_test(player_id, predictors, was_home=True, current_gw=27, opponent_team='Southampton')\n",
    "\n",
    "knn = KNeighborsClassifier(n_neighbors=1)\n",
    "knn.fit(X_train, y_train)\n",
    "knn.predict_proba(X_test)\n"
   ]
  },
  {
   "cell_type": "code",
   "execution_count": 13,
   "metadata": {},
   "outputs": [
    {
     "data": {
      "text/plain": [
       "0.35833333333333334"
      ]
     },
     "execution_count": 13,
     "metadata": {},
     "output_type": "execute_result"
    }
   ],
   "source": [
    "cross_val_score(X=X_train,y=y_train, cv=3, estimator=knn, scoring='precision').mean()"
   ]
  },
  {
   "cell_type": "code",
   "execution_count": 14,
   "metadata": {},
   "outputs": [
    {
     "data": {
      "text/plain": [
       "array([[0., 1.]])"
      ]
     },
     "execution_count": 14,
     "metadata": {},
     "output_type": "execute_result"
    }
   ],
   "source": [
    "#Harry_Kane\n",
    "player_id = 372\n",
    "predictors = ['total_goals_scored_1_gw_before', 'total_goals_scored_2_gw_before', 'total_goals_scored_3_gw_before' + 'total_total_team_mates_ict_index_1_gw_bebore' + 'total_total_team_mates_ict_index_12_gw_bebore' + 'total_total_team_mates_ict_index_3_gw_bebore', 'total_total_team_opponent_players_ict_index_1_gw_bebore', 'total_total_team_opponent_players_ict_index_2_gw_bebore', 'total_total_team_opponent_players_ict_index_3_gw_bebore', 'was_home']\n",
    "X_train = create_X_train(player_id, predictors)\n",
    "X_train.fillna(0, inplace=True)\n",
    "y_train = create_y_train(player_id)\n",
    "X_test = create_X_test(player_id, predictors, was_home=False, current_gw=27, opponent_team='Burnley')\n",
    "\n",
    "knn = KNeighborsClassifier(n_neighbors=1)\n",
    "knn.fit(X_train, y_train)\n",
    "knn.predict_proba(X_test)"
   ]
  },
  {
   "cell_type": "code",
   "execution_count": 15,
   "metadata": {},
   "outputs": [
    {
     "data": {
      "text/plain": [
       "0.19444444444444442"
      ]
     },
     "execution_count": 15,
     "metadata": {},
     "output_type": "execute_result"
    }
   ],
   "source": [
    "cross_val_score(X=X_train,y=y_train, cv=3, estimator=knn, scoring='precision').mean()"
   ]
  },
  {
   "cell_type": "code",
   "execution_count": 16,
   "metadata": {},
   "outputs": [
    {
     "data": {
      "text/plain": [
       "array([[1., 0.]])"
      ]
     },
     "execution_count": 16,
     "metadata": {},
     "output_type": "execute_result"
    }
   ],
   "source": [
    "#Son\n",
    "player_id = 367\n",
    "predictors = ['total_goals_scored_1_gw_before', 'total_goals_scored_2_gw_before', 'total_goals_scored_3_gw_before' + 'total_total_team_mates_ict_index_1_gw_bebore' + 'total_total_team_mates_ict_index_12_gw_bebore' + 'total_total_team_mates_ict_index_3_gw_bebore', 'total_total_team_opponent_players_ict_index_1_gw_bebore', 'total_total_team_opponent_players_ict_index_2_gw_bebore', 'total_total_team_opponent_players_ict_index_3_gw_bebore', 'was_home']\n",
    "X_train = create_X_train(player_id, predictors)\n",
    "X_train.fillna(0, inplace=True)\n",
    "y_train = create_y_train(player_id)\n",
    "X_test = create_X_test(player_id, predictors, was_home=False, current_gw=27, opponent_team='Burnley')\n",
    "\n",
    "knn = KNeighborsClassifier(n_neighbors=1)\n",
    "knn.fit(X_train, y_train)\n",
    "knn.predict_proba(X_test)"
   ]
  },
  {
   "cell_type": "code",
   "execution_count": 17,
   "metadata": {},
   "outputs": [
    {
     "data": {
      "text/plain": [
       "0.5555555555555555"
      ]
     },
     "execution_count": 17,
     "metadata": {},
     "output_type": "execute_result"
    }
   ],
   "source": [
    "cross_val_score(X=X_train,y=y_train, cv=3, estimator=knn, scoring='precision').mean()"
   ]
  },
  {
   "cell_type": "code",
   "execution_count": 18,
   "metadata": {},
   "outputs": [
    {
     "data": {
      "text/plain": [
       "array([[1., 0.]])"
      ]
     },
     "execution_count": 18,
     "metadata": {},
     "output_type": "execute_result"
    }
   ],
   "source": [
    "#Mohamed_Salah\n",
    "player_id = 253\n",
    "predictors = ['total_goals_scored_1_gw_before', 'total_goals_scored_2_gw_before', 'total_goals_scored_3_gw_before' + 'total_total_team_mates_ict_index_1_gw_bebore' + 'total_total_team_mates_ict_index_12_gw_bebore' + 'total_total_team_mates_ict_index_3_gw_bebore', 'total_total_team_opponent_players_ict_index_1_gw_bebore', 'total_total_team_opponent_players_ict_index_2_gw_bebore', 'total_total_team_opponent_players_ict_index_3_gw_bebore', 'was_home']\n",
    "X_train = create_X_train(player_id, predictors)\n",
    "X_train.fillna(0, inplace=True)\n",
    "y_train = create_y_train(player_id)\n",
    "X_test = create_X_test(player_id, predictors, was_home=False, current_gw=27, opponent_team='Man Utd')\n",
    "\n",
    "knn = KNeighborsClassifier(n_neighbors=1)\n",
    "knn.fit(X_train, y_train)\n",
    "knn.predict_proba(X_test)"
   ]
  },
  {
   "cell_type": "code",
   "execution_count": 19,
   "metadata": {},
   "outputs": [
    {
     "data": {
      "text/plain": [
       "0.5"
      ]
     },
     "execution_count": 19,
     "metadata": {},
     "output_type": "execute_result"
    }
   ],
   "source": [
    "cross_val_score(X=X_train,y=y_train, cv=3, estimator=knn, scoring='precision').mean()"
   ]
  },
  {
   "cell_type": "code",
   "execution_count": 20,
   "metadata": {},
   "outputs": [
    {
     "data": {
      "text/plain": [
       "array([[1., 0.]])"
      ]
     },
     "execution_count": 20,
     "metadata": {},
     "output_type": "execute_result"
    }
   ],
   "source": [
    "#mane\n",
    "player_id = 251\n",
    "predictors = ['total_goals_scored_1_gw_before', 'total_goals_scored_2_gw_before', 'total_goals_scored_3_gw_before' + 'total_total_team_mates_ict_index_1_gw_bebore' + 'total_total_team_mates_ict_index_12_gw_bebore' + 'total_total_team_mates_ict_index_3_gw_bebore', 'total_total_team_opponent_players_ict_index_1_gw_bebore', 'total_total_team_opponent_players_ict_index_2_gw_bebore', 'total_total_team_opponent_players_ict_index_3_gw_bebore', 'was_home']\n",
    "X_train = create_X_train(player_id, predictors)\n",
    "X_train.fillna(0, inplace=True)\n",
    "y_train = create_y_train(player_id)\n",
    "X_test = create_X_test(player_id, predictors, was_home=False, current_gw=27, opponent_team='Man Utd')\n",
    "\n",
    "knn = KNeighborsClassifier(n_neighbors=1)\n",
    "knn.fit(X_train, y_train)\n",
    "knn.predict_proba(X_test)"
   ]
  },
  {
   "cell_type": "code",
   "execution_count": 21,
   "metadata": {},
   "outputs": [
    {
     "data": {
      "text/plain": [
       "0.5555555555555555"
      ]
     },
     "execution_count": 21,
     "metadata": {},
     "output_type": "execute_result"
    }
   ],
   "source": [
    "cross_val_score(X=X_train,y=y_train, cv=3, estimator=knn, scoring='precision').mean()"
   ]
  },
  {
   "cell_type": "code",
   "execution_count": 22,
   "metadata": {},
   "outputs": [
    {
     "data": {
      "text/plain": [
       "array([[1., 0.]])"
      ]
     },
     "execution_count": 22,
     "metadata": {},
     "output_type": "execute_result"
    }
   ],
   "source": [
    "#Richarlison_de Andrade\n",
    "player_id = 393\n",
    "predictors = ['total_goals_scored_1_gw_before', 'total_goals_scored_2_gw_before', 'total_goals_scored_3_gw_before' + 'total_total_team_mates_ict_index_1_gw_bebore' + 'total_total_team_mates_ict_index_12_gw_bebore' + 'total_total_team_mates_ict_index_3_gw_bebore', 'total_total_team_opponent_players_ict_index_1_gw_bebore', 'total_total_team_opponent_players_ict_index_2_gw_bebore', 'total_total_team_opponent_players_ict_index_3_gw_bebore', 'was_home']\n",
    "X_train = create_X_train(player_id, predictors)\n",
    "X_train.fillna(0, inplace=True)\n",
    "y_train = create_y_train(player_id)\n",
    "X_test = create_X_test(player_id, predictors, was_home=True, current_gw=25, opponent_team='Wolves')\n",
    "\n",
    "knn = KNeighborsClassifier(n_neighbors=1)\n",
    "knn.fit(X_train, y_train)\n",
    "knn.predict_proba(X_test)"
   ]
  },
  {
   "cell_type": "code",
   "execution_count": 23,
   "metadata": {},
   "outputs": [
    {
     "data": {
      "text/plain": [
       "0.0"
      ]
     },
     "execution_count": 23,
     "metadata": {},
     "output_type": "execute_result"
    }
   ],
   "source": [
    "cross_val_score(X=X_train,y=y_train, cv=3, estimator=knn, scoring='precision').mean()"
   ]
  },
  {
   "cell_type": "code",
   "execution_count": 24,
   "metadata": {},
   "outputs": [
    {
     "data": {
      "text/plain": [
       "array([[1., 0.]])"
      ]
     },
     "execution_count": 24,
     "metadata": {},
     "output_type": "execute_result"
    }
   ],
   "source": [
    "#Sigurdsson\n",
    "player_id = 172\n",
    "predictors = ['total_goals_scored_1_gw_before', 'total_goals_scored_2_gw_before', 'total_goals_scored_3_gw_before' + 'total_total_team_mates_ict_index_1_gw_bebore' + 'total_total_team_mates_ict_index_12_gw_bebore' + 'total_total_team_mates_ict_index_3_gw_bebore', 'total_total_team_opponent_players_ict_index_1_gw_bebore', 'total_total_team_opponent_players_ict_index_2_gw_bebore', 'total_total_team_opponent_players_ict_index_3_gw_bebore', 'was_home']\n",
    "X_train = create_X_train(player_id, predictors)\n",
    "X_train.fillna(0, inplace=True)\n",
    "y_train = create_y_train(player_id)\n",
    "X_test = create_X_test(player_id, predictors, was_home=True, current_gw=25, opponent_team='Wolves')\n",
    "\n",
    "knn = KNeighborsClassifier(n_neighbors=1)\n",
    "knn.fit(X_train, y_train)\n",
    "knn.predict_proba(X_test)"
   ]
  },
  {
   "cell_type": "code",
   "execution_count": 25,
   "metadata": {},
   "outputs": [
    {
     "data": {
      "text/plain": [
       "0.1111111111111111"
      ]
     },
     "execution_count": 25,
     "metadata": {},
     "output_type": "execute_result"
    }
   ],
   "source": [
    "cross_val_score(X=X_train,y=y_train, cv=3, estimator=knn, scoring='precision').mean()"
   ]
  },
  {
   "cell_type": "code",
   "execution_count": 26,
   "metadata": {},
   "outputs": [
    {
     "data": {
      "text/plain": [
       "array([[1., 0.]])"
      ]
     },
     "execution_count": 26,
     "metadata": {},
     "output_type": "execute_result"
    }
   ],
   "source": [
    "#Callum_Wilson\n",
    "player_id = 43\n",
    "predictors = ['total_goals_scored_1_gw_before', 'total_goals_scored_2_gw_before', 'total_goals_scored_3_gw_before' + 'total_total_team_mates_ict_index_1_gw_bebore' + 'total_total_team_mates_ict_index_12_gw_bebore' + 'total_total_team_mates_ict_index_3_gw_bebore', 'total_total_team_opponent_players_ict_index_1_gw_bebore', 'total_total_team_opponent_players_ict_index_2_gw_bebore', 'total_total_team_opponent_players_ict_index_3_gw_bebore', 'was_home']\n",
    "X_train = create_X_train(player_id, predictors)\n",
    "X_train.fillna(0, inplace=True)\n",
    "y_train = create_y_train(player_id)\n",
    "X_test = create_X_test(player_id, predictors, was_home=True, current_gw=27, opponent_team='Wolves')\n",
    "\n",
    "knn = KNeighborsClassifier(n_neighbors=1)\n",
    "knn.fit(X_train, y_train)\n",
    "knn.predict_proba(X_test)"
   ]
  },
  {
   "cell_type": "code",
   "execution_count": 27,
   "metadata": {},
   "outputs": [
    {
     "data": {
      "text/plain": [
       "0.0"
      ]
     },
     "execution_count": 27,
     "metadata": {},
     "output_type": "execute_result"
    }
   ],
   "source": [
    "cross_val_score(X=X_train,y=y_train, cv=3, estimator=knn, scoring='precision').mean()"
   ]
  },
  {
   "cell_type": "code",
   "execution_count": 28,
   "metadata": {},
   "outputs": [
    {
     "data": {
      "text/plain": [
       "array([[1., 0.]])"
      ]
     },
     "execution_count": 28,
     "metadata": {},
     "output_type": "execute_result"
    }
   ],
   "source": [
    "#King\n",
    "player_id = 45\n",
    "predictors = ['total_goals_scored_1_gw_before', 'total_goals_scored_2_gw_before', 'total_goals_scored_3_gw_before' + 'total_total_team_mates_ict_index_1_gw_bebore' + 'total_total_team_mates_ict_index_12_gw_bebore' + 'total_total_team_mates_ict_index_3_gw_bebore', 'total_total_team_opponent_players_ict_index_1_gw_bebore', 'total_total_team_opponent_players_ict_index_2_gw_bebore', 'total_total_team_opponent_players_ict_index_3_gw_bebore', 'was_home']\n",
    "X_train = create_X_train(player_id, predictors)\n",
    "X_train.fillna(0, inplace=True)\n",
    "y_train = create_y_train(player_id)\n",
    "X_test = create_X_test(player_id, predictors, was_home=True, current_gw=27, opponent_team='Wolves')\n",
    "\n",
    "knn = KNeighborsClassifier(n_neighbors=1)\n",
    "knn.fit(X_train, y_train)\n",
    "knn.predict_proba(X_test)"
   ]
  },
  {
   "cell_type": "code",
   "execution_count": 29,
   "metadata": {},
   "outputs": [
    {
     "data": {
      "text/plain": [
       "0.0"
      ]
     },
     "execution_count": 29,
     "metadata": {},
     "output_type": "execute_result"
    }
   ],
   "source": [
    "cross_val_score(X=X_train,y=y_train, cv=3, estimator=knn, scoring='precision').mean()"
   ]
  },
  {
   "cell_type": "code",
   "execution_count": 30,
   "metadata": {},
   "outputs": [
    {
     "data": {
      "text/plain": [
       "array([[0., 1.]])"
      ]
     },
     "execution_count": 30,
     "metadata": {},
     "output_type": "execute_result"
    }
   ],
   "source": [
    "#Anthony_Martial\n",
    "player_id = 301\n",
    "predictors = ['total_goals_scored_1_gw_before', 'total_goals_scored_2_gw_before', 'total_goals_scored_3_gw_before' + 'total_total_team_mates_ict_index_1_gw_bebore' + 'total_total_team_mates_ict_index_12_gw_bebore' + 'total_total_team_mates_ict_index_3_gw_bebore', 'total_total_team_opponent_players_ict_index_1_gw_bebore', 'total_total_team_opponent_players_ict_index_2_gw_bebore', 'total_total_team_opponent_players_ict_index_3_gw_bebore', 'was_home']\n",
    "X_train = create_X_train(player_id, predictors)\n",
    "X_train.fillna(0, inplace=True)\n",
    "y_train = create_y_train(player_id)\n",
    "X_test = create_X_test(player_id, predictors, was_home=True, current_gw=27, opponent_team='Liverpool')\n",
    "\n",
    "knn = KNeighborsClassifier(n_neighbors=1)\n",
    "knn.fit(X_train, y_train)\n",
    "knn.predict_proba(X_test)"
   ]
  },
  {
   "cell_type": "code",
   "execution_count": 31,
   "metadata": {},
   "outputs": [
    {
     "data": {
      "text/plain": [
       "0.16666666666666666"
      ]
     },
     "execution_count": 31,
     "metadata": {},
     "output_type": "execute_result"
    }
   ],
   "source": [
    "cross_val_score(X=X_train,y=y_train, cv=3, estimator=knn, scoring='precision').mean()"
   ]
  },
  {
   "cell_type": "code",
   "execution_count": 32,
   "metadata": {},
   "outputs": [
    {
     "data": {
      "text/plain": [
       "array([[1., 0.]])"
      ]
     },
     "execution_count": 32,
     "metadata": {},
     "output_type": "execute_result"
    }
   ],
   "source": [
    "#Paul Pogba\n",
    "player_id = 302\n",
    "predictors = ['total_goals_scored_1_gw_before', 'total_goals_scored_2_gw_before', 'total_goals_scored_3_gw_before' + 'total_total_team_mates_ict_index_1_gw_bebore' + 'total_total_team_mates_ict_index_12_gw_bebore' + 'total_total_team_mates_ict_index_3_gw_bebore', 'total_total_team_opponent_players_ict_index_1_gw_bebore', 'total_total_team_opponent_players_ict_index_2_gw_bebore', 'total_total_team_opponent_players_ict_index_3_gw_bebore', 'was_home']\n",
    "X_train = create_X_train(player_id, predictors)\n",
    "X_train.fillna(0, inplace=True)\n",
    "y_train = create_y_train(player_id)\n",
    "X_test = create_X_test(player_id, predictors, was_home=True, current_gw=27, opponent_team='Liverpool')\n",
    "\n",
    "knn = KNeighborsClassifier(n_neighbors=1)\n",
    "knn.fit(X_train, y_train)\n",
    "knn.predict_proba(X_test)"
   ]
  },
  {
   "cell_type": "code",
   "execution_count": 33,
   "metadata": {},
   "outputs": [
    {
     "data": {
      "text/plain": [
       "0.4666666666666666"
      ]
     },
     "execution_count": 33,
     "metadata": {},
     "output_type": "execute_result"
    }
   ],
   "source": [
    "cross_val_score(X=X_train,y=y_train, cv=3, estimator=knn, scoring='precision').mean()"
   ]
  },
  {
   "cell_type": "code",
   "execution_count": null,
   "metadata": {},
   "outputs": [],
   "source": [
    "#Macus Rashford\n",
    "player_id = 305\n",
    "predictors = ['total_goals_scored_1_gw_before', 'total_goals_scored_2_gw_before', 'total_goals_scored_3_gw_before' + 'total_total_team_mates_ict_index_1_gw_bebore' + 'total_total_team_mates_ict_index_12_gw_bebore' + 'total_total_team_mates_ict_index_3_gw_bebore', 'total_total_team_opponent_players_ict_index_1_gw_bebore', 'total_total_team_opponent_players_ict_index_2_gw_bebore', 'total_total_team_opponent_players_ict_index_3_gw_bebore', 'was_home']\n",
    "X_train = create_X_train(player_id, predictors)\n",
    "X_train.fillna(0, inplace=True)\n",
    "y_train = create_y_train(player_id)\n",
    "X_test = create_X_test(player_id, predictors, was_home=True, current_gw=27, opponent_team='Liverpool')\n",
    "\n",
    "knn = KNeighborsClassifier(n_neighbors=1)\n",
    "knn.fit(X_train, y_train)\n",
    "knn.predict_proba(X_test)"
   ]
  },
  {
   "cell_type": "code",
   "execution_count": null,
   "metadata": {},
   "outputs": [],
   "source": [
    "cross_val_score(X=X_train,y=y_train, cv=3, estimator=knn, scoring='precision').mean()"
   ]
  },
  {
   "cell_type": "code",
   "execution_count": null,
   "metadata": {},
   "outputs": [],
   "source": [
    "#Redmond\n",
    "player_id = 343\n",
    "predictors = ['total_goals_scored_1_gw_before', 'total_goals_scored_2_gw_before', 'total_goals_scored_3_gw_before' + 'total_total_team_mates_ict_index_1_gw_bebore' + 'total_total_team_mates_ict_index_12_gw_bebore' + 'total_total_team_mates_ict_index_3_gw_bebore', 'total_total_team_opponent_players_ict_index_1_gw_bebore', 'total_total_team_opponent_players_ict_index_2_gw_bebore', 'total_total_team_opponent_players_ict_index_3_gw_bebore', 'was_home']\n",
    "X_train = create_X_train(player_id, predictors)\n",
    "X_train.fillna(0, inplace=True)\n",
    "y_train = create_y_train(player_id)\n",
    "X_test = create_X_test(player_id, predictors, was_home=False, current_gw=27, opponent_team='Arsenal')\n",
    "\n",
    "knn = KNeighborsClassifier(n_neighbors=1)\n",
    "knn.fit(X_train, y_train)\n",
    "knn.predict_proba(X_test)"
   ]
  },
  {
   "cell_type": "code",
   "execution_count": null,
   "metadata": {},
   "outputs": [],
   "source": [
    "cross_val_score(X=X_train,y=y_train, cv=3, estimator=knn, scoring='precision').mean()"
   ]
  },
  {
   "cell_type": "code",
   "execution_count": null,
   "metadata": {},
   "outputs": [],
   "source": [
    "#Jiménez\n",
    "player_id = 437\n",
    "predictors = ['total_goals_scored_1_gw_before', 'total_goals_scored_2_gw_before', 'total_goals_scored_3_gw_before' + 'total_total_team_mates_ict_index_1_gw_bebore' + 'total_total_team_mates_ict_index_12_gw_bebore' + 'total_total_team_mates_ict_index_3_gw_bebore', 'total_total_team_opponent_players_ict_index_1_gw_bebore', 'total_total_team_opponent_players_ict_index_2_gw_bebore', 'total_total_team_opponent_players_ict_index_3_gw_bebore', 'was_home']\n",
    "X_train = create_X_train(player_id, predictors)\n",
    "X_train.fillna(0, inplace=True)\n",
    "y_train = create_y_train(player_id)\n",
    "X_test = create_X_test(player_id, predictors, was_home=False, current_gw=27, opponent_team='Bournemouth')\n",
    "\n",
    "knn = KNeighborsClassifier(n_neighbors=1)\n",
    "knn.fit(X_train, y_train)\n",
    "knn.predict_proba(X_test)"
   ]
  },
  {
   "cell_type": "code",
   "execution_count": null,
   "metadata": {},
   "outputs": [],
   "source": [
    "cross_val_score(X=X_train,y=y_train, cv=3, estimator=knn, scoring='precision').mean()"
   ]
  },
  {
   "cell_type": "code",
   "execution_count": null,
   "metadata": {},
   "outputs": [],
   "source": [
    "#Sergio_Agüero\n",
    "player_id = 280\n",
    "predictors = ['total_goals_scored_1_gw_before', 'total_goals_scored_2_gw_before', 'total_goals_scored_3_gw_before' + 'total_total_team_mates_ict_index_1_gw_bebore' + 'total_total_team_mates_ict_index_12_gw_bebore' + 'total_total_team_mates_ict_index_3_gw_bebore', 'total_total_team_opponent_players_ict_index_1_gw_bebore', 'total_total_team_opponent_players_ict_index_2_gw_bebore', 'total_total_team_opponent_players_ict_index_3_gw_bebore', 'was_home']\n",
    "X_train = create_X_train(player_id, predictors)\n",
    "X_train.fillna(0, inplace=True)\n",
    "y_train = create_y_train(player_id)\n",
    "X_test = create_X_test(player_id, predictors, was_home=True, current_gw=25, opponent_team='Arsenal')\n",
    "\n",
    "knn = KNeighborsClassifier(n_neighbors=1)\n",
    "knn.fit(X_train, y_train)\n",
    "knn.predict_proba(X_test)"
   ]
  },
  {
   "cell_type": "code",
   "execution_count": null,
   "metadata": {},
   "outputs": [],
   "source": [
    "cross_val_score(X=X_train,y=y_train, cv=3, estimator=knn, scoring='precision').mean()"
   ]
  },
  {
   "cell_type": "code",
   "execution_count": null,
   "metadata": {},
   "outputs": [],
   "source": [
    "#Sane\n",
    "player_id = 275\n",
    "predictors = ['total_goals_scored_1_gw_before', 'total_goals_scored_2_gw_before', 'total_goals_scored_3_gw_before' + 'total_total_team_mates_ict_index_1_gw_bebore' + 'total_total_team_mates_ict_index_12_gw_bebore' + 'total_total_team_mates_ict_index_3_gw_bebore', 'total_total_team_opponent_players_ict_index_1_gw_bebore', 'total_total_team_opponent_players_ict_index_2_gw_bebore', 'total_total_team_opponent_players_ict_index_3_gw_bebore', 'was_home']\n",
    "X_train = create_X_train(player_id, predictors)\n",
    "X_train.fillna(0, inplace=True)\n",
    "y_train = create_y_train(player_id)\n",
    "X_test = create_X_test(player_id, predictors, was_home=True, current_gw=25, opponent_team='Arsenal')\n",
    "\n",
    "knn = KNeighborsClassifier(n_neighbors=1)\n",
    "knn.fit(X_train, y_train)\n",
    "knn.predict_proba(X_test)"
   ]
  },
  {
   "cell_type": "code",
   "execution_count": null,
   "metadata": {},
   "outputs": [],
   "source": [
    "cross_val_score(X=X_train,y=y_train, cv=3, estimator=knn, scoring='precision').mean()"
   ]
  },
  {
   "cell_type": "code",
   "execution_count": null,
   "metadata": {},
   "outputs": [],
   "source": [
    "#David Silva\n",
    "player_id = 271\n",
    "predictors = ['total_goals_scored_1_gw_before', 'total_goals_scored_2_gw_before', 'total_goals_scored_3_gw_before' + 'total_total_team_mates_ict_index_1_gw_bebore' + 'total_total_team_mates_ict_index_12_gw_bebore' + 'total_total_team_mates_ict_index_3_gw_bebore', 'total_total_team_opponent_players_ict_index_1_gw_bebore', 'total_total_team_opponent_players_ict_index_2_gw_bebore', 'total_total_team_opponent_players_ict_index_3_gw_bebore', 'was_home']\n",
    "X_train = create_X_train(player_id, predictors)\n",
    "X_train.fillna(0, inplace=True)\n",
    "y_train = create_y_train(player_id)\n",
    "X_test = create_X_test(player_id, predictors, was_home=True, current_gw=25, opponent_team='Arsenal')\n",
    "\n",
    "knn = KNeighborsClassifier(n_neighbors=1)\n",
    "knn.fit(X_train, y_train)\n",
    "knn.predict_proba(X_test)"
   ]
  },
  {
   "cell_type": "code",
   "execution_count": null,
   "metadata": {},
   "outputs": [],
   "source": [
    "cross_val_score(X=X_train,y=y_train, cv=3, estimator=knn, scoring='precision').mean()"
   ]
  },
  {
   "cell_type": "code",
   "execution_count": null,
   "metadata": {},
   "outputs": [],
   "source": [
    "#Sterling\n",
    "player_id = 270\n",
    "predictors = ['total_goals_scored_1_gw_before', 'total_goals_scored_2_gw_before', 'total_goals_scored_3_gw_before' + 'total_total_team_mates_ict_index_1_gw_bebore' + 'total_total_team_mates_ict_index_12_gw_bebore' + 'total_total_team_mates_ict_index_3_gw_bebore', 'total_total_team_opponent_players_ict_index_1_gw_bebore', 'total_total_team_opponent_players_ict_index_2_gw_bebore', 'total_total_team_opponent_players_ict_index_3_gw_bebore', 'was_home']\n",
    "X_train = create_X_train(player_id, predictors)\n",
    "X_train.fillna(0, inplace=True)\n",
    "y_train = create_y_train(player_id)\n",
    "X_test = create_X_test(player_id, predictors, was_home=True, current_gw=25, opponent_team='Arsenal')\n",
    "\n",
    "knn = KNeighborsClassifier(n_neighbors=1)\n",
    "knn.fit(X_train, y_train)\n",
    "knn.predict_proba(X_test)"
   ]
  },
  {
   "cell_type": "code",
   "execution_count": null,
   "metadata": {},
   "outputs": [],
   "source": [
    "cross_val_score(X=X_train,y=y_train, cv=3, estimator=knn, scoring='precision').mean()"
   ]
  },
  {
   "cell_type": "code",
   "execution_count": null,
   "metadata": {},
   "outputs": [],
   "source": [
    "#Eden_Hazard\n",
    "player_id = 122\n",
    "predictors = ['total_goals_scored_1_gw_before', 'total_goals_scored_2_gw_before', 'total_goals_scored_3_gw_before' + 'total_total_team_mates_ict_index_1_gw_bebore' + 'total_total_team_mates_ict_index_12_gw_bebore' + 'total_total_team_mates_ict_index_3_gw_bebore', 'total_total_team_opponent_players_ict_index_1_gw_bebore', 'total_total_team_opponent_players_ict_index_2_gw_bebore', 'total_total_team_opponent_players_ict_index_3_gw_bebore', 'was_home']\n",
    "#predictors = [ 'total_goals_scored_3_gw_before' +  'total_total_team_mates_ict_index_3_gw_bebore', 'total_total_team_opponent_players_ict_index_1_gw_bebore', 'total_total_team_opponent_players_ict_index_2_gw_bebore', 'total_total_team_opponent_players_ict_index_3_gw_bebore', 'was_home']\n",
    "X_train = create_X_train(player_id, predictors)\n",
    "X_train.fillna(0, inplace=True)\n",
    "y_train = create_y_train(player_id)\n",
    "X_test = create_X_test(player_id, predictors, was_home=True, current_gw=25, opponent_team='Huddersfield')\n",
    "\n",
    "knn = KNeighborsClassifier(n_neighbors=1)\n",
    "knn.fit(X_train, y_train)\n",
    "knn.predict_proba(X_test)"
   ]
  },
  {
   "cell_type": "code",
   "execution_count": null,
   "metadata": {},
   "outputs": [],
   "source": [
    "cross_val_score(X=X_train,y=y_train, cv=3, estimator=knn, scoring='precision').mean()"
   ]
  },
  {
   "cell_type": "code",
   "execution_count": null,
   "metadata": {},
   "outputs": [],
   "source": [
    "#Kanté\n",
    "player_id = 126\n",
    "predictors = ['total_goals_scored_1_gw_before', 'total_goals_scored_2_gw_before', 'total_goals_scored_3_gw_before' + 'total_total_team_mates_ict_index_1_gw_bebore' + 'total_total_team_mates_ict_index_12_gw_bebore' + 'total_total_team_mates_ict_index_3_gw_bebore', 'total_total_team_opponent_players_ict_index_1_gw_bebore', 'total_total_team_opponent_players_ict_index_2_gw_bebore', 'total_total_team_opponent_players_ict_index_3_gw_bebore', 'was_home']\n",
    "X_train = create_X_train(player_id, predictors)\n",
    "X_train.fillna(0, inplace=True)\n",
    "y_train = create_y_train(player_id)\n",
    "X_test = create_X_test(player_id, predictors, was_home=True, current_gw=25, opponent_team='Huddersfield')\n",
    "\n",
    "knn = KNeighborsClassifier(n_neighbors=1)\n",
    "knn.fit(X_train, y_train)\n",
    "knn.predict_proba(X_test)"
   ]
  },
  {
   "cell_type": "code",
   "execution_count": null,
   "metadata": {},
   "outputs": [],
   "source": [
    "cross_val_score(X=X_train,y=y_train, cv=3, estimator=knn, scoring='precision').mean()"
   ]
  },
  {
   "cell_type": "code",
   "execution_count": null,
   "metadata": {},
   "outputs": [],
   "source": [
    "#Pedro\n",
    "player_id = 125\n",
    "predictors = ['total_goals_scored_1_gw_before', 'total_goals_scored_2_gw_before', 'total_goals_scored_3_gw_before' + 'total_total_team_mates_ict_index_1_gw_bebore' + 'total_total_team_mates_ict_index_12_gw_bebore' + 'total_total_team_mates_ict_index_3_gw_bebore', 'total_total_team_opponent_players_ict_index_1_gw_bebore', 'total_total_team_opponent_players_ict_index_2_gw_bebore', 'total_total_team_opponent_players_ict_index_3_gw_bebore', 'was_home']\n",
    "X_train = create_X_train(player_id, predictors)\n",
    "X_train.fillna(0, inplace=True)\n",
    "y_train = create_y_train(player_id)\n",
    "X_test = create_X_test(player_id, predictors, was_home=True, current_gw=25, opponent_team='Huddersfield')\n",
    "\n",
    "knn = KNeighborsClassifier(n_neighbors=1)\n",
    "knn.fit(X_train, y_train)\n",
    "knn.predict_proba(X_test)"
   ]
  },
  {
   "cell_type": "code",
   "execution_count": null,
   "metadata": {},
   "outputs": [],
   "source": [
    "cross_val_score(X=X_train,y=y_train, cv=3, estimator=knn, scoring='precision').mean()"
   ]
  },
  {
   "cell_type": "code",
   "execution_count": null,
   "metadata": {},
   "outputs": [],
   "source": [
    "#Willian\n",
    "player_id = 124\n",
    "predictors = ['total_goals_scored_1_gw_before', 'total_goals_scored_2_gw_before', 'total_goals_scored_3_gw_before' + 'total_total_team_mates_ict_index_1_gw_bebore' + 'total_total_team_mates_ict_index_12_gw_bebore' + 'total_total_team_mates_ict_index_3_gw_bebore', 'total_total_team_opponent_players_ict_index_1_gw_bebore', 'total_total_team_opponent_players_ict_index_2_gw_bebore', 'total_total_team_opponent_players_ict_index_3_gw_bebore', 'was_home']\n",
    "X_train = create_X_train(player_id, predictors)\n",
    "X_train.fillna(0, inplace=True)\n",
    "y_train = create_y_train(player_id)\n",
    "X_test = create_X_test(player_id, predictors, was_home=True, current_gw=25, opponent_team='Huddersfield')\n",
    "\n",
    "knn = KNeighborsClassifier(n_neighbors=1)\n",
    "knn.fit(X_train, y_train)\n",
    "knn.predict_proba(X_test)"
   ]
  },
  {
   "cell_type": "code",
   "execution_count": null,
   "metadata": {},
   "outputs": [],
   "source": [
    "cross_val_score(X=X_train,y=y_train, cv=3, estimator=knn, scoring='precision').mean()"
   ]
  },
  {
   "cell_type": "code",
   "execution_count": null,
   "metadata": {},
   "outputs": [],
   "source": [
    "#Vardy\n",
    "player_id = 234\n",
    "predictors = ['total_goals_scored_1_gw_before', 'total_goals_scored_2_gw_before', 'total_goals_scored_3_gw_before' + 'total_total_team_mates_ict_index_1_gw_bebore' + 'total_total_team_mates_ict_index_12_gw_bebore' + 'total_total_team_mates_ict_index_3_gw_bebore', 'total_total_team_opponent_players_ict_index_1_gw_bebore', 'total_total_team_opponent_players_ict_index_2_gw_bebore', 'total_total_team_opponent_players_ict_index_3_gw_bebore', 'was_home']\n",
    "X_train = create_X_train(player_id, predictors)\n",
    "X_train.fillna(0, inplace=True)\n",
    "y_train = create_y_train(player_id)\n",
    "X_test = create_X_test(player_id, predictors, was_home=True, current_gw=27, opponent_team='Crystal Palace')\n",
    "\n",
    "knn = KNeighborsClassifier(n_neighbors=1)\n",
    "knn.fit(X_train, y_train)\n",
    "knn.predict_proba(X_test)"
   ]
  },
  {
   "cell_type": "code",
   "execution_count": null,
   "metadata": {},
   "outputs": [],
   "source": [
    "cross_val_score(X=X_train,y=y_train, cv=3, estimator=knn, scoring='precision').mean()"
   ]
  },
  {
   "cell_type": "code",
   "execution_count": null,
   "metadata": {},
   "outputs": [],
   "source": [
    "#Mitrovic\n",
    "player_id = 480\n",
    "predictors = ['total_goals_scored_1_gw_before', 'total_goals_scored_2_gw_before', 'total_goals_scored_3_gw_before' + 'total_total_team_mates_ict_index_1_gw_bebore' + 'total_total_team_mates_ict_index_12_gw_bebore' + 'total_total_team_mates_ict_index_3_gw_bebore', 'total_total_team_opponent_players_ict_index_1_gw_bebore', 'total_total_team_opponent_players_ict_index_2_gw_bebore', 'total_total_team_opponent_players_ict_index_3_gw_bebore', 'was_home']\n",
    "X_train = create_X_train(player_id, predictors)\n",
    "X_train.fillna(0, inplace=True)\n",
    "y_train = create_y_train(player_id)\n",
    "X_test = create_X_test(player_id, predictors, was_home=False, current_gw=27, opponent_team='West Ham')\n",
    "\n",
    "knn = KNeighborsClassifier(n_neighbors=1)\n",
    "knn.fit(X_train, y_train)\n",
    "knn.predict_proba(X_test)"
   ]
  },
  {
   "cell_type": "code",
   "execution_count": null,
   "metadata": {},
   "outputs": [],
   "source": [
    "cross_val_score(X=X_train,y=y_train, cv=3, estimator=knn, scoring='precision').mean()"
   ]
  },
  {
   "cell_type": "code",
   "execution_count": null,
   "metadata": {},
   "outputs": [],
   "source": [
    "players.loc[players['second_name'] == 'King', :]"
   ]
  },
  {
   "cell_type": "code",
   "execution_count": null,
   "metadata": {},
   "outputs": [],
   "source": [
    "d = pd.DataFrame({\n",
    "    'player' : ['Mitrovic', 'Son', 'Vardy', 'Willian', 'Pedro', 'Kanté', 'Sterling', 'David Silva', 'Sane', 'Sigurdsson', 'Jiménez', 'Redmond', 'Rashford', 'Pogba', 'Martial', 'Richarlison_de', 'Wilson', 'Agüero', 'Hazard', 'mane', 'Salah', 'Kane', 'Aubameyang'],\n",
    "    'negative': [1, 1, 1, 1, 0, 1, 0, 1, 1, 1, 0, 1, 1, 1, 1, 1, 0, 1, 0, 1, 0, 0, 1],\n",
    "    'positive' : [0, 0, 0, 0, 1, 0, 1, 0, 0, 0, 1, 0, 0, 0, 0, 0, 1, 0, 1, 0, 1, 1, 0]\n",
    "})\n",
    "d.to_csv('./report/gw24.csv', index=False)"
   ]
  },
  {
   "cell_type": "code",
   "execution_count": null,
   "metadata": {},
   "outputs": [],
   "source": [
    "predictors = ['total_goals_scored_1_gw_before', 'total_goals_scored_2_gw_before', 'total_goals_scored_3_gw_before']\n",
    "\n",
    "def feature_importance_of_player(player_id):\n",
    "    tree_clf = DecisionTreeClassifier()\n",
    "    X_train = create_X_train(player_id=player_id, predictors=predictors)\n",
    "    X_train.fillna(0, inplace=True)\n",
    "    y_train = create_y_train(player_id=player_id)\n",
    "    tree_clf.fit(X_train, y_train)\n",
    "    return list(zip(tree_clf.feature_importances_, predictors))\n",
    "\n",
    "def scoring_prob_of_player(player_id):\n",
    "    knn_clf = KNeighborsClassifier(n_neighbors=1)\n",
    "    X_train = create_X_train(player_id=player_id, predictors=predictors)\n",
    "    X_train.fillna(0, inplace=True)\n",
    "    y_train = create_y_train(player_id=player_id)\n",
    "    X_test = create_X_test(player_id=player_id, predictors=predictors)\n",
    "    \n",
    "    knn_clf.fit(X_train, y_train)\n",
    "    return knn_clf.predict_proba(X_test)"
   ]
  },
  {
   "cell_type": "code",
   "execution_count": null,
   "metadata": {},
   "outputs": [],
   "source": [
    "def get_player_name(player_id):\n",
    "    df = cleaned_players.loc[cleaned_players.player_id == player_id, ['first_name', 'second_name']]\n",
    "    return df['first_name'].iloc[0] + '_' +df['second_name'].iloc[0]\n",
    "\n",
    "top_scorers = players.groupby('player_id', as_index=False)['goals_scored'].sum().sort_values('goals_scored',ascending=False)[:10]\n",
    "\n",
    "result = pd.DataFrame(columns=['player_id', 'name', 'no_goal_prob', 'has_goal_prob'])\n",
    "for i, row in top_scorers.iterrows():\n",
    "    probs = scoring_prob_of_player(row['player_id'])\n",
    "    name = get_player_name(row['player_id'])\n",
    "    d = {\n",
    "        'player_id': row['player_id'],\n",
    "        'name' : name,\n",
    "        'no_goal_prob' : probs[0][0],\n",
    "        'has_goal_prob' : probs[0][1],\n",
    "    }\n",
    "    \n",
    "    result = result.append(d, ignore_index=True)\n",
    "\n",
    "result    \n",
    "    "
   ]
  },
  {
   "cell_type": "code",
   "execution_count": null,
   "metadata": {},
   "outputs": [],
   "source": [
    "def plot_last_3_gws_stat_affects_has_goals(player_id, stat, agg):\n",
    "    player = players.loc[players.player_id == player_id, :]\n",
    "    player['has_goal'] = player['goals_scored'] > 0\n",
    "    player[stat + '_1_gw_before'] = player_stat_in_last_n_gw(player_id, stat, agg, 1)\n",
    "    player[stat + '_2_gw_before'] = player_stat_in_last_n_gw(player_id, stat, agg, 2)\n",
    "    player[stat + '_3_gw_before'] = player_stat_in_last_n_gw(player_id, stat, agg, 3)\n",
    "\n",
    "    has_goal = player.loc[player.has_goal, :]\n",
    "    no_goal = player.loc[~(player.has_goal), :]\n",
    "\n",
    "    plt.figure(figsize=(20, 5))\n",
    "    \n",
    "    for i in range(1, 4):\n",
    "        #plot last n GWs stat\n",
    "        x1 = has_goal[f\"{stat}_{i}_gw_before\"].dropna()\n",
    "        x2 = no_goal[f\"{stat}_{i}_gw_before\"].dropna()\n",
    "\n",
    "        lower = player[f\"{stat}_{i}_gw_before\"].min()\n",
    "        upper = player[f\"{stat}_{i}_gw_before\"].max()\n",
    "\n",
    "        bins = np.arange(lower, upper + 2, 1)\n",
    "\n",
    "        plt.subplot(1, 3, i)\n",
    "        plt.hist([x1, x2], label=['has_goals', 'no_goal'], bins=bins, histtype='bar', align='left')\n",
    "        plt.title(f\"{stat} last {i} GWs distributtion\")\n",
    "        plt.xlabel(f\"{stat} last {i} GWs\")\n",
    "        plt.ylabel('Number of GWs')\n",
    "        plt.xticks(bins)\n",
    "        plt.legend()\n",
    "    plt.show()\n",
    "    \n",
    "\n",
    "def plot_last_3_gws_stat_affects_more_than_10_points(player_id, stat, agg):\n",
    "    player = players.loc[players.player_id == player_id, :]\n",
    "    player['more_than_10_points'] = player['points'] >= 8\n",
    "    player[stat + '_1_gw_before'] = player_stat_in_last_n_gw(player_id, stat, agg, 1)\n",
    "    player[stat + '_2_gw_before'] = player_stat_in_last_n_gw(player_id, stat, agg, 2)\n",
    "    player[stat + '_3_gw_before'] = player_stat_in_last_n_gw(player_id, stat, agg, 3)\n",
    "\n",
    "    has_effect = player.loc[player.more_than_10_points, :]\n",
    "    no_effect = player.loc[~(player.more_than_10_points), :]\n",
    "\n",
    "    plt.figure(figsize=(20, 5))\n",
    "    \n",
    "    for i in range(1, 4):\n",
    "        #plot last n GWs stat\n",
    "        x1 = has_effect[f\"{stat}_{i}_gw_before\"].dropna()\n",
    "        x2 = no_effect[f\"{stat}_{i}_gw_before\"].dropna()\n",
    "\n",
    "        lower = player[f\"{stat}_{i}_gw_before\"].min()\n",
    "        upper = player[f\"{stat}_{i}_gw_before\"].max()\n",
    "\n",
    "        bins = np.arange(lower, upper + 2, 1)\n",
    "\n",
    "        plt.subplot(1, 3, i)\n",
    "        plt.hist([x1, x2], label=['more_than_10_points', 'no_more_than_10_points'], bins=bins, histtype='bar', align='left')\n",
    "        plt.title(f\"{stat} last {i} GWs distributtion\")\n",
    "        plt.xlabel(f\"{stat} last {i} GWs\")\n",
    "        plt.ylabel('Number of GWs')\n",
    "        plt.xticks(bins)\n",
    "        plt.legend()\n",
    "    plt.show()\n",
    "    \n",
    "def plot_stat_by_was_home(player_id, stat, agg):\n",
    "    player = players.loc[players.player_id == player_id, :]\n",
    "    grouped = player.groupby('was_home', as_index=False)[stat].agg(agg)\n",
    "    home_stat = grouped.loc[grouped.was_home, stat]\n",
    "    away_stat = grouped.loc[~grouped.was_home, stat]\n",
    "    \n",
    "    ind = np.arange(1) \n",
    "    width = 0.5\n",
    "    plt.figure(figsize=(8, 7))\n",
    "    plt.bar(ind, home_stat.values, width=width, align='center')\n",
    "    plt.bar(ind + width, away_stat.values, width=width, align='center')\n",
    "    plt.title(stat + ' by was home')\n",
    "    plt.ylabel('Number of ' + stat)\n",
    "    plt.xticks([0, 0.5], ['home', 'away'])\n",
    "    plt.show()"
   ]
  },
  {
   "cell_type": "markdown",
   "metadata": {},
   "source": [
    "## Is total historical goals affect current goal consistency?"
   ]
  },
  {
   "cell_type": "code",
   "execution_count": null,
   "metadata": {},
   "outputs": [],
   "source": [
    "df = players.copy()\n",
    "total_goals_grouped_by_player_id = df.groupby(df.player_id, as_index=False)['goals_scored'].sum()\n",
    "total_goals_grouped_by_player_id = pd.merge(cleaned_players.loc[:, ['player_id', 'second_name']], total_goals_grouped_by_player_id, on='player_id')\n",
    "\n",
    "top_scorers = total_goals_grouped_by_player_id.sort_values('goals_scored', ascending=False)[:1]\n",
    "\n",
    "for index, row in top_scorers.iterrows():\n",
    "    print(row['second_name'])\n",
    "    plot_last_3_gws_stat_affects_has_goals(row['player_id'], 'goals_scored', np.sum)"
   ]
  },
  {
   "cell_type": "code",
   "execution_count": null,
   "metadata": {},
   "outputs": [],
   "source": []
  }
 ],
 "metadata": {
  "kernelspec": {
   "display_name": "Python 3",
   "language": "python",
   "name": "python3"
  },
  "language_info": {
   "codemirror_mode": {
    "name": "ipython",
    "version": 3
   },
   "file_extension": ".py",
   "mimetype": "text/x-python",
   "name": "python",
   "nbconvert_exporter": "python",
   "pygments_lexer": "ipython3",
   "version": "3.6.6"
  }
 },
 "nbformat": 4,
 "nbformat_minor": 2
}
