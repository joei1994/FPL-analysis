{
 "cells": [
  {
   "cell_type": "code",
   "execution_count": 1,
   "metadata": {},
   "outputs": [],
   "source": [
    "import numpy as np\n",
    "import pandas as pd\n",
    "import matplotlib\n",
    "from matplotlib import pyplot as plt\n",
    "import seaborn as sns\n",
    "\n",
    "pd.set_option('display.max_columns', 500)"
   ]
  },
  {
   "cell_type": "code",
   "execution_count": 2,
   "metadata": {},
   "outputs": [],
   "source": [
    "data_path = './data'\n",
    "idlist_path = '/player_idlist.csv'\n",
    "players_path = '/players'\n",
    "season = '/2018-19'"
   ]
  },
  {
   "cell_type": "code",
   "execution_count": 3,
   "metadata": {},
   "outputs": [],
   "source": [
    "idlist = pd.read_csv(data_path + season + idlist_path)"
   ]
  },
  {
   "cell_type": "code",
   "execution_count": 4,
   "metadata": {},
   "outputs": [],
   "source": [
    "#create players\n",
    "players = pd.DataFrame()\n",
    "for index, row in idlist.iterrows():\n",
    "    first_name = row['first_name']\n",
    "    second_name = row['second_name']\n",
    "    player_id = row['id']\n",
    "    player_path = '/' +first_name + '_' + second_name + '_' + str(player_id)\n",
    "    \n",
    "    player = pd.read_csv(data_path + season + players_path + player_path + '/gw.csv')\n",
    "    player['gw'] = np.arange(len(player)) + 1\n",
    "    player['player_id'] = player_id\n",
    "    players = pd.concat([players, player], axis=0)"
   ]
  },
  {
   "cell_type": "code",
   "execution_count": 5,
   "metadata": {},
   "outputs": [],
   "source": [
    "#load teams data\n",
    "teams = pd.read_csv(data_path + season + '/teams_raw.csv')\n",
    "teams.rename(columns={'id': 'team_id'}, inplace=True)\n",
    "\n",
    "#load element_types data\n",
    "element_types = pd.read_csv(data_path + season + '/element_types_raw.csv')\n",
    "element_types.drop(columns=['plural_name', 'plural_name_short'],inplace=True)\n",
    "element_types.rename(columns={'id':'element_type_id', 'singular_name': 'position_name', 'singular_name_short' : 'position_short'}, inplace=True)\n",
    "\n",
    "#load player_cleaned data\n",
    "cleaned_players = pd.read_csv(data_path + season + '/cleaned_players.csv')\n",
    "cleaned_players.rename(columns={'id':'player_id'}, inplace=True)"
   ]
  },
  {
   "cell_type": "code",
   "execution_count": 6,
   "metadata": {},
   "outputs": [],
   "source": [
    "#prepare players data\n",
    "players = pd.merge(players, cleaned_players.loc[:,['player_id', 'first_name', 'second_name', 'team', 'element_type']], on='player_id')\n",
    "\n",
    "#merge team name\n",
    "players = pd.merge(players, teams.loc[:, ['team_id', 'name']], left_on='team', right_on='team_id')\n",
    "players.drop(columns=['team_id', 'team'], inplace=True)\n",
    "players.rename(columns={'name':'team'}, inplace=True)\n",
    "\n",
    "#merge element type \n",
    "players = pd.merge(players, element_types, left_on='element_type', right_on='element_type_id')\n",
    "players.drop(columns=['element_type', 'element_type_id'], inplace=True)\n",
    "players.rename(columns={'position_name':'position'}, inplace=True)\n",
    "\n",
    "#rename total_points to points\n",
    "players.rename(columns={'total_points':'points'}, inplace=True)\n",
    "\n"
   ]
  },
  {
   "cell_type": "code",
   "execution_count": 7,
   "metadata": {},
   "outputs": [],
   "source": [
    "#swap columns\n",
    "players = pd.concat([players.iloc[:, -6:], players.iloc[:, :-6]], axis=1)"
   ]
  },
  {
   "cell_type": "code",
   "execution_count": 8,
   "metadata": {},
   "outputs": [],
   "source": [
    "salah = players.loc[players['player_id'] == 253, :]"
   ]
  },
  {
   "cell_type": "code",
   "execution_count": 9,
   "metadata": {},
   "outputs": [],
   "source": [
    "stats_by_player_ids = players.groupby(\"player_id\", as_index=False).agg({\n",
    "    'points' : np.sum\n",
    "})"
   ]
  },
  {
   "cell_type": "code",
   "execution_count": 10,
   "metadata": {},
   "outputs": [],
   "source": [
    "top_by_points = stats_by_player_ids.sort_values('points', ascending=False)[:100]\n",
    "top_by_points = pd.merge(top_by_points, cleaned_players.loc[:, ['player_id', 'second_name']], on=\"player_id\")\n"
   ]
  },
  {
   "cell_type": "code",
   "execution_count": 18,
   "metadata": {},
   "outputs": [
    {
     "data": {
      "text/html": [
       "<div>\n",
       "<style scoped>\n",
       "    .dataframe tbody tr th:only-of-type {\n",
       "        vertical-align: middle;\n",
       "    }\n",
       "\n",
       "    .dataframe tbody tr th {\n",
       "        vertical-align: top;\n",
       "    }\n",
       "\n",
       "    .dataframe thead th {\n",
       "        text-align: right;\n",
       "    }\n",
       "</style>\n",
       "<table border=\"1\" class=\"dataframe\">\n",
       "  <thead>\n",
       "    <tr style=\"text-align: right;\">\n",
       "      <th></th>\n",
       "      <th>player_id</th>\n",
       "      <th>points</th>\n",
       "      <th>second_name</th>\n",
       "    </tr>\n",
       "  </thead>\n",
       "  <tbody>\n",
       "    <tr>\n",
       "      <th>0</th>\n",
       "      <td>253</td>\n",
       "      <td>149</td>\n",
       "      <td>Salah</td>\n",
       "    </tr>\n",
       "    <tr>\n",
       "      <th>1</th>\n",
       "      <td>122</td>\n",
       "      <td>136</td>\n",
       "      <td>Hazard</td>\n",
       "    </tr>\n",
       "    <tr>\n",
       "      <th>2</th>\n",
       "      <td>23</td>\n",
       "      <td>132</td>\n",
       "      <td>Aubameyang</td>\n",
       "    </tr>\n",
       "    <tr>\n",
       "      <th>3</th>\n",
       "      <td>372</td>\n",
       "      <td>130</td>\n",
       "      <td>Kane</td>\n",
       "    </tr>\n",
       "    <tr>\n",
       "      <th>4</th>\n",
       "      <td>270</td>\n",
       "      <td>122</td>\n",
       "      <td>Sterling</td>\n",
       "    </tr>\n",
       "  </tbody>\n",
       "</table>\n",
       "</div>"
      ],
      "text/plain": [
       "   player_id  points second_name\n",
       "0        253     149       Salah\n",
       "1        122     136      Hazard\n",
       "2         23     132  Aubameyang\n",
       "3        372     130        Kane\n",
       "4        270     122    Sterling"
      ]
     },
     "execution_count": 18,
     "metadata": {},
     "output_type": "execute_result"
    }
   ],
   "source": [
    "top_by_points.head()"
   ]
  },
  {
   "cell_type": "code",
   "execution_count": 12,
   "metadata": {},
   "outputs": [],
   "source": [
    "captains = players.loc[[player_id in list(top_by_points.player_id) for player_id in players.player_id], :]\n",
    "captain_attackers = captains.loc[(captains.position_short == 'FWD') | (captains.position_short == 'MID'), :]\n",
    "captain_defenders = captains.loc[(captains.position_short == 'DEF') | (captains.position_short == 'GKP'), :]"
   ]
  },
  {
   "cell_type": "code",
   "execution_count": 13,
   "metadata": {},
   "outputs": [],
   "source": [
    "def ict_mean_by_was_home(player_id):\n",
    "    player = players.loc[players.player_id == player_id, :]\n",
    "    home = player.loc[player.was_home == True, :]\n",
    "    away = player.loc[player.was_home == False, :]\n",
    "    return home['ict_index'].mean(), away['ict_index'].mean()\n",
    "\n",
    "def influence_mean_by_was_home(player_id):\n",
    "    player = players.loc[players.player_id == player_id, :]\n",
    "    home = player.loc[player.was_home == True, :]\n",
    "    away = player.loc[player.was_home == False, :]\n",
    "    return home['influence'].mean(), away['influence'].mean()\n",
    "\n",
    "def creativity_mean_by_was_home(player_id):\n",
    "    player = players.loc[players.player_id == player_id, :]\n",
    "    home = player.loc[player.was_home == True, :]\n",
    "    away = player.loc[player.was_home == False, :]\n",
    "    return home['creativity'].mean(), away['creativity'].mean()\n",
    "\n",
    "def threat_mean_by_was_home(player_id):\n",
    "    player = players.loc[players.player_id == player_id, :]\n",
    "    home = player.loc[player.was_home == True, :]\n",
    "    away = player.loc[player.was_home == False, :]\n",
    "    return home['threat'].mean(), away['threat'].mean()"
   ]
  },
  {
   "cell_type": "code",
   "execution_count": 124,
   "metadata": {},
   "outputs": [],
   "source": [
    "def get_n_gw_before_ict(player_id, n):\n",
    "    player = players.loc[players.player_id == player_id, :]\n",
    "    if(player.shape[0] > n):\n",
    "        if(n == 1):\n",
    "            return player['ict_index'].shift(1)\n",
    "        else:\n",
    "            return player['ict_index'].shift().rolling(min_periods=n, window=n).mean()\n",
    "    else:\n",
    "        return np.nan\n"
   ]
  },
  {
   "cell_type": "code",
   "execution_count": 125,
   "metadata": {},
   "outputs": [
    {
     "name": "stderr",
     "output_type": "stream",
     "text": [
      "/Users/80151/anaconda3/lib/python3.6/site-packages/ipykernel_launcher.py:2: SettingWithCopyWarning: \n",
      "A value is trying to be set on a copy of a slice from a DataFrame.\n",
      "Try using .loc[row_indexer,col_indexer] = value instead\n",
      "\n",
      "See the caveats in the documentation: http://pandas.pydata.org/pandas-docs/stable/indexing.html#indexing-view-versus-copy\n",
      "  \n"
     ]
    }
   ],
   "source": [
    "salah = players.loc[players.player_id ==253, :]\n",
    "salah['xxx'] = get_n_gw_before_ict(253, 2)\n",
    "\n"
   ]
  },
  {
   "cell_type": "code",
   "execution_count": 123,
   "metadata": {},
   "outputs": [
    {
     "data": {
      "text/plain": [
       "0    NaN\n",
       "1    NaN\n",
       "2    NaN\n",
       "3    2.0\n",
       "4    3.0\n",
       "5    4.0\n",
       "dtype: float64"
      ]
     },
     "execution_count": 123,
     "metadata": {},
     "output_type": "execute_result"
    }
   ],
   "source": [
    "s.shift().rolling(min_periods=3, window=3).mean()"
   ]
  },
  {
   "cell_type": "code",
   "execution_count": null,
   "metadata": {},
   "outputs": [],
   "source": []
  }
 ],
 "metadata": {
  "kernelspec": {
   "display_name": "Python 3",
   "language": "python",
   "name": "python3"
  },
  "language_info": {
   "codemirror_mode": {
    "name": "ipython",
    "version": 3
   },
   "file_extension": ".py",
   "mimetype": "text/x-python",
   "name": "python",
   "nbconvert_exporter": "python",
   "pygments_lexer": "ipython3",
   "version": "3.6.6"
  }
 },
 "nbformat": 4,
 "nbformat_minor": 2
}
