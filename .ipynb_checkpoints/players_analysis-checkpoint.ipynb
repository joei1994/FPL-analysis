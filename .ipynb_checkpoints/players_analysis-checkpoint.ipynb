{
 "cells": [
  {
   "cell_type": "code",
   "execution_count": 1,
   "metadata": {},
   "outputs": [],
   "source": [
    "import pandas as pd\n",
    "import numpy as np\n",
    "import matplotlib \n",
    "from matplotlib import pyplot as plt\n",
    "import seaborn as sns\n",
    "from __future__ import division\n",
    "import os\n",
    "from functools import reduce\n",
    "from scipy.stats import chisquare\n",
    "from pandas.tools.plotting import scatter_matrix\n",
    "\n",
    "pd.set_option('display.max_columns', 500)"
   ]
  },
  {
   "cell_type": "code",
   "execution_count": 8,
   "metadata": {},
   "outputs": [],
   "source": [
    "#data_path = os.path.join(os.path.join(os.path.expanduser('~')), 'Desktop/fpl/data') \n",
    "data_path = './data'\n",
    "idlist_file ='/player_idlist.csv'\n",
    "gws_path = '/gws/'\n",
    "players_path = '/players/'"
   ]
  },
  {
   "cell_type": "code",
   "execution_count": 9,
   "metadata": {},
   "outputs": [
    {
     "ename": "FileNotFoundError",
     "evalue": "File b'./data/2018-19/element_types_raw.csv' does not exist",
     "output_type": "error",
     "traceback": [
      "\u001b[0;31m---------------------------------------------------------------------------\u001b[0m",
      "\u001b[0;31mFileNotFoundError\u001b[0m                         Traceback (most recent call last)",
      "\u001b[0;32m<ipython-input-9-dd85150bafec>\u001b[0m in \u001b[0;36m<module>\u001b[0;34m()\u001b[0m\n\u001b[1;32m      5\u001b[0m \u001b[0midlist\u001b[0m\u001b[0;34m.\u001b[0m\u001b[0mrename\u001b[0m\u001b[0;34m(\u001b[0m\u001b[0mcolumns\u001b[0m\u001b[0;34m=\u001b[0m\u001b[0;34m{\u001b[0m\u001b[0;34m'id'\u001b[0m\u001b[0;34m:\u001b[0m\u001b[0;34m'player_id'\u001b[0m\u001b[0;34m}\u001b[0m\u001b[0;34m,\u001b[0m \u001b[0minplace\u001b[0m\u001b[0;34m=\u001b[0m\u001b[0;32mTrue\u001b[0m\u001b[0;34m)\u001b[0m\u001b[0;34m\u001b[0m\u001b[0m\n\u001b[1;32m      6\u001b[0m \u001b[0mcleaned_players\u001b[0m\u001b[0;34m.\u001b[0m\u001b[0mrename\u001b[0m\u001b[0;34m(\u001b[0m\u001b[0mcolumns\u001b[0m\u001b[0;34m=\u001b[0m\u001b[0;34m{\u001b[0m\u001b[0;34m'id'\u001b[0m\u001b[0;34m:\u001b[0m\u001b[0;34m'player_id'\u001b[0m\u001b[0;34m}\u001b[0m\u001b[0;34m,\u001b[0m \u001b[0minplace\u001b[0m\u001b[0;34m=\u001b[0m\u001b[0;32mTrue\u001b[0m\u001b[0;34m)\u001b[0m\u001b[0;34m\u001b[0m\u001b[0m\n\u001b[0;32m----> 7\u001b[0;31m \u001b[0melement_types\u001b[0m \u001b[0;34m=\u001b[0m \u001b[0mpd\u001b[0m\u001b[0;34m.\u001b[0m\u001b[0mread_csv\u001b[0m\u001b[0;34m(\u001b[0m\u001b[0mdata_path\u001b[0m \u001b[0;34m+\u001b[0m \u001b[0;34m'/2018-19/'\u001b[0m \u001b[0;34m+\u001b[0m \u001b[0;34m'element_types_raw.csv'\u001b[0m\u001b[0;34m)\u001b[0m\u001b[0;34m\u001b[0m\u001b[0m\n\u001b[0m\u001b[1;32m      8\u001b[0m \u001b[0mteams\u001b[0m \u001b[0;34m=\u001b[0m \u001b[0mpd\u001b[0m\u001b[0;34m.\u001b[0m\u001b[0mread_csv\u001b[0m\u001b[0;34m(\u001b[0m\u001b[0mdata_path\u001b[0m \u001b[0;34m+\u001b[0m \u001b[0;34m'/2018-19/'\u001b[0m \u001b[0;34m+\u001b[0m \u001b[0;34m'teams_raw.csv'\u001b[0m\u001b[0;34m)\u001b[0m\u001b[0;34m\u001b[0m\u001b[0m\n",
      "\u001b[0;32m~/anaconda3/lib/python3.6/site-packages/pandas/io/parsers.py\u001b[0m in \u001b[0;36mparser_f\u001b[0;34m(filepath_or_buffer, sep, delimiter, header, names, index_col, usecols, squeeze, prefix, mangle_dupe_cols, dtype, engine, converters, true_values, false_values, skipinitialspace, skiprows, nrows, na_values, keep_default_na, na_filter, verbose, skip_blank_lines, parse_dates, infer_datetime_format, keep_date_col, date_parser, dayfirst, iterator, chunksize, compression, thousands, decimal, lineterminator, quotechar, quoting, escapechar, comment, encoding, dialect, tupleize_cols, error_bad_lines, warn_bad_lines, skipfooter, doublequote, delim_whitespace, low_memory, memory_map, float_precision)\u001b[0m\n\u001b[1;32m    676\u001b[0m                     skip_blank_lines=skip_blank_lines)\n\u001b[1;32m    677\u001b[0m \u001b[0;34m\u001b[0m\u001b[0m\n\u001b[0;32m--> 678\u001b[0;31m         \u001b[0;32mreturn\u001b[0m \u001b[0m_read\u001b[0m\u001b[0;34m(\u001b[0m\u001b[0mfilepath_or_buffer\u001b[0m\u001b[0;34m,\u001b[0m \u001b[0mkwds\u001b[0m\u001b[0;34m)\u001b[0m\u001b[0;34m\u001b[0m\u001b[0m\n\u001b[0m\u001b[1;32m    679\u001b[0m \u001b[0;34m\u001b[0m\u001b[0m\n\u001b[1;32m    680\u001b[0m     \u001b[0mparser_f\u001b[0m\u001b[0;34m.\u001b[0m\u001b[0m__name__\u001b[0m \u001b[0;34m=\u001b[0m \u001b[0mname\u001b[0m\u001b[0;34m\u001b[0m\u001b[0m\n",
      "\u001b[0;32m~/anaconda3/lib/python3.6/site-packages/pandas/io/parsers.py\u001b[0m in \u001b[0;36m_read\u001b[0;34m(filepath_or_buffer, kwds)\u001b[0m\n\u001b[1;32m    438\u001b[0m \u001b[0;34m\u001b[0m\u001b[0m\n\u001b[1;32m    439\u001b[0m     \u001b[0;31m# Create the parser.\u001b[0m\u001b[0;34m\u001b[0m\u001b[0;34m\u001b[0m\u001b[0m\n\u001b[0;32m--> 440\u001b[0;31m     \u001b[0mparser\u001b[0m \u001b[0;34m=\u001b[0m \u001b[0mTextFileReader\u001b[0m\u001b[0;34m(\u001b[0m\u001b[0mfilepath_or_buffer\u001b[0m\u001b[0;34m,\u001b[0m \u001b[0;34m**\u001b[0m\u001b[0mkwds\u001b[0m\u001b[0;34m)\u001b[0m\u001b[0;34m\u001b[0m\u001b[0m\n\u001b[0m\u001b[1;32m    441\u001b[0m \u001b[0;34m\u001b[0m\u001b[0m\n\u001b[1;32m    442\u001b[0m     \u001b[0;32mif\u001b[0m \u001b[0mchunksize\u001b[0m \u001b[0;32mor\u001b[0m \u001b[0miterator\u001b[0m\u001b[0;34m:\u001b[0m\u001b[0;34m\u001b[0m\u001b[0m\n",
      "\u001b[0;32m~/anaconda3/lib/python3.6/site-packages/pandas/io/parsers.py\u001b[0m in \u001b[0;36m__init__\u001b[0;34m(self, f, engine, **kwds)\u001b[0m\n\u001b[1;32m    785\u001b[0m             \u001b[0mself\u001b[0m\u001b[0;34m.\u001b[0m\u001b[0moptions\u001b[0m\u001b[0;34m[\u001b[0m\u001b[0;34m'has_index_names'\u001b[0m\u001b[0;34m]\u001b[0m \u001b[0;34m=\u001b[0m \u001b[0mkwds\u001b[0m\u001b[0;34m[\u001b[0m\u001b[0;34m'has_index_names'\u001b[0m\u001b[0;34m]\u001b[0m\u001b[0;34m\u001b[0m\u001b[0m\n\u001b[1;32m    786\u001b[0m \u001b[0;34m\u001b[0m\u001b[0m\n\u001b[0;32m--> 787\u001b[0;31m         \u001b[0mself\u001b[0m\u001b[0;34m.\u001b[0m\u001b[0m_make_engine\u001b[0m\u001b[0;34m(\u001b[0m\u001b[0mself\u001b[0m\u001b[0;34m.\u001b[0m\u001b[0mengine\u001b[0m\u001b[0;34m)\u001b[0m\u001b[0;34m\u001b[0m\u001b[0m\n\u001b[0m\u001b[1;32m    788\u001b[0m \u001b[0;34m\u001b[0m\u001b[0m\n\u001b[1;32m    789\u001b[0m     \u001b[0;32mdef\u001b[0m \u001b[0mclose\u001b[0m\u001b[0;34m(\u001b[0m\u001b[0mself\u001b[0m\u001b[0;34m)\u001b[0m\u001b[0;34m:\u001b[0m\u001b[0;34m\u001b[0m\u001b[0m\n",
      "\u001b[0;32m~/anaconda3/lib/python3.6/site-packages/pandas/io/parsers.py\u001b[0m in \u001b[0;36m_make_engine\u001b[0;34m(self, engine)\u001b[0m\n\u001b[1;32m   1012\u001b[0m     \u001b[0;32mdef\u001b[0m \u001b[0m_make_engine\u001b[0m\u001b[0;34m(\u001b[0m\u001b[0mself\u001b[0m\u001b[0;34m,\u001b[0m \u001b[0mengine\u001b[0m\u001b[0;34m=\u001b[0m\u001b[0;34m'c'\u001b[0m\u001b[0;34m)\u001b[0m\u001b[0;34m:\u001b[0m\u001b[0;34m\u001b[0m\u001b[0m\n\u001b[1;32m   1013\u001b[0m         \u001b[0;32mif\u001b[0m \u001b[0mengine\u001b[0m \u001b[0;34m==\u001b[0m \u001b[0;34m'c'\u001b[0m\u001b[0;34m:\u001b[0m\u001b[0;34m\u001b[0m\u001b[0m\n\u001b[0;32m-> 1014\u001b[0;31m             \u001b[0mself\u001b[0m\u001b[0;34m.\u001b[0m\u001b[0m_engine\u001b[0m \u001b[0;34m=\u001b[0m \u001b[0mCParserWrapper\u001b[0m\u001b[0;34m(\u001b[0m\u001b[0mself\u001b[0m\u001b[0;34m.\u001b[0m\u001b[0mf\u001b[0m\u001b[0;34m,\u001b[0m \u001b[0;34m**\u001b[0m\u001b[0mself\u001b[0m\u001b[0;34m.\u001b[0m\u001b[0moptions\u001b[0m\u001b[0;34m)\u001b[0m\u001b[0;34m\u001b[0m\u001b[0m\n\u001b[0m\u001b[1;32m   1015\u001b[0m         \u001b[0;32melse\u001b[0m\u001b[0;34m:\u001b[0m\u001b[0;34m\u001b[0m\u001b[0m\n\u001b[1;32m   1016\u001b[0m             \u001b[0;32mif\u001b[0m \u001b[0mengine\u001b[0m \u001b[0;34m==\u001b[0m \u001b[0;34m'python'\u001b[0m\u001b[0;34m:\u001b[0m\u001b[0;34m\u001b[0m\u001b[0m\n",
      "\u001b[0;32m~/anaconda3/lib/python3.6/site-packages/pandas/io/parsers.py\u001b[0m in \u001b[0;36m__init__\u001b[0;34m(self, src, **kwds)\u001b[0m\n\u001b[1;32m   1706\u001b[0m         \u001b[0mkwds\u001b[0m\u001b[0;34m[\u001b[0m\u001b[0;34m'usecols'\u001b[0m\u001b[0;34m]\u001b[0m \u001b[0;34m=\u001b[0m \u001b[0mself\u001b[0m\u001b[0;34m.\u001b[0m\u001b[0musecols\u001b[0m\u001b[0;34m\u001b[0m\u001b[0m\n\u001b[1;32m   1707\u001b[0m \u001b[0;34m\u001b[0m\u001b[0m\n\u001b[0;32m-> 1708\u001b[0;31m         \u001b[0mself\u001b[0m\u001b[0;34m.\u001b[0m\u001b[0m_reader\u001b[0m \u001b[0;34m=\u001b[0m \u001b[0mparsers\u001b[0m\u001b[0;34m.\u001b[0m\u001b[0mTextReader\u001b[0m\u001b[0;34m(\u001b[0m\u001b[0msrc\u001b[0m\u001b[0;34m,\u001b[0m \u001b[0;34m**\u001b[0m\u001b[0mkwds\u001b[0m\u001b[0;34m)\u001b[0m\u001b[0;34m\u001b[0m\u001b[0m\n\u001b[0m\u001b[1;32m   1709\u001b[0m \u001b[0;34m\u001b[0m\u001b[0m\n\u001b[1;32m   1710\u001b[0m         \u001b[0mpassed_names\u001b[0m \u001b[0;34m=\u001b[0m \u001b[0mself\u001b[0m\u001b[0;34m.\u001b[0m\u001b[0mnames\u001b[0m \u001b[0;32mis\u001b[0m \u001b[0;32mNone\u001b[0m\u001b[0;34m\u001b[0m\u001b[0m\n",
      "\u001b[0;32mpandas/_libs/parsers.pyx\u001b[0m in \u001b[0;36mpandas._libs.parsers.TextReader.__cinit__\u001b[0;34m()\u001b[0m\n",
      "\u001b[0;32mpandas/_libs/parsers.pyx\u001b[0m in \u001b[0;36mpandas._libs.parsers.TextReader._setup_parser_source\u001b[0;34m()\u001b[0m\n",
      "\u001b[0;31mFileNotFoundError\u001b[0m: File b'./data/2018-19/element_types_raw.csv' does not exist"
     ]
    }
   ],
   "source": [
    "idlist = pd.read_csv(data_path + '/2018-19/' + idlist_file)\n",
    "\n",
    "cleaned_players = pd.read_csv(data_path + '/2018-19/' + 'cleaned_players.csv')\n",
    "cleaned_players['fullname'] = cleaned_players['first_name'] + cleaned_players['second_name']\n",
    "idlist.rename(columns={'id':'player_id'}, inplace=True)\n",
    "cleaned_players.rename(columns={'id':'player_id'}, inplace=True)\n",
    "element_types = pd.read_csv(data_path + '/2018-19/' + 'element_types_raw.csv')\n",
    "teams = pd.read_csv(data_path + '/2018-19/' + 'teams_raw.csv')"
   ]
  },
  {
   "cell_type": "code",
   "execution_count": null,
   "metadata": {},
   "outputs": [],
   "source": [
    "def swap_columns(players):\n",
    "    gws = players.gw\n",
    "    elements = players.element\n",
    "    \n",
    "    players.drop(columns=['gw', 'element'], axis=1, inplace=True)\n",
    "    players = pd.concat([gws, elements, players], axis=1)\n",
    "    \n",
    "    return players"
   ]
  },
  {
   "cell_type": "code",
   "execution_count": null,
   "metadata": {
    "scrolled": true
   },
   "outputs": [],
   "source": [
    "players = pd.DataFrame()\n",
    "\n",
    "for index, row in idlist.iterrows():\n",
    "    first_name = row['first_name']\n",
    "    second_name = row['second_name']\n",
    "    play_id = str(row['player_id'])\n",
    "    \n",
    "    player_path = '/' + first_name + '_' + second_name + '_' + play_id + '/'\n",
    "    \n",
    "    player = pd.read_csv(data_path + '/2018-19/' + players_path + player_path + 'gw.csv')\n",
    "    player['gw'] = np.arange(player.shape[0]) + 1\n",
    "    players = pd.concat([players, player], axis=0)"
   ]
  },
  {
   "cell_type": "code",
   "execution_count": null,
   "metadata": {},
   "outputs": [],
   "source": [
    "players = swap_columns(players)\n",
    "\n",
    "players.rename(columns={'element' : 'player_id',\n",
    "                        'total_points' : 'points'}, inplace=True)\n",
    "\n",
    "players['value'] = players['value'] / 10\n",
    "players['roi'] = players['points'] / players['value']\n",
    "\n",
    "players.reset_index(drop=True, inplace=True)"
   ]
  },
  {
   "cell_type": "code",
   "execution_count": null,
   "metadata": {
    "scrolled": true
   },
   "outputs": [],
   "source": [
    "players.shape"
   ]
  },
  {
   "cell_type": "code",
   "execution_count": null,
   "metadata": {},
   "outputs": [],
   "source": [
    "players.head()"
   ]
  },
  {
   "cell_type": "code",
   "execution_count": null,
   "metadata": {},
   "outputs": [],
   "source": [
    "players.info()"
   ]
  },
  {
   "cell_type": "code",
   "execution_count": null,
   "metadata": {},
   "outputs": [],
   "source": [
    "def autolabel(rects):\n",
    "    \"\"\"\n",
    "    Attach a text label above each bar displaying its height\n",
    "    \"\"\"\n",
    "    for rect in rects:\n",
    "        height = rect.get_height()\n",
    "        ax.text(rect.get_x() + rect.get_width()/2., 1.03*height,\n",
    "                '%d' % int(height),\n",
    "                ha='center', va='bottom')"
   ]
  },
  {
   "cell_type": "code",
   "execution_count": null,
   "metadata": {},
   "outputs": [],
   "source": [
    "scored_players = players.loc[players['points'] > 0, :]\n",
    "\n",
    "max_point = scored_players['points'].max()\n",
    "bins = bins=np.arange(0, max_point, 1)\n",
    "\n",
    "plt.figure(figsize=(10, 5))\n",
    "plt.hist(scored_players['points'], bins=bins, align='left')\n",
    "plt.xticks(bins[:-1])\n",
    "plt.title(\"Points Histogram\")\n",
    "plt.ylabel(\"Frequency\")\n",
    "plt.xlabel(\"Point\")\n",
    "plt.show()"
   ]
  },
  {
   "cell_type": "markdown",
   "metadata": {},
   "source": [
    "<span style='color:green'>Most of the players will have points around 1-2 points per week</span>"
   ]
  },
  {
   "cell_type": "code",
   "execution_count": null,
   "metadata": {},
   "outputs": [],
   "source": [
    "top_10 = players.groupby(players.player_id, as_index=False)['points'].sum().sort_values('points', ascending =False)[:20]\n",
    "\n",
    "top_10 = pd.merge(top_10, idlist, left_on='player_id', right_on='player_id', how='inner')\n",
    "top_10['full_name'] = top_10['first_name'] + '_' + top_10['second_name']\n",
    "\n",
    "plt.figure(figsize=(10, 5))\n",
    "plt.bar(top_10['full_name'], top_10['points'])\n",
    "plt.xticks(rotation=90)\n",
    "plt.ylabel('Total Points')\n",
    "plt.title('Top 20 by Total Points')\n",
    "plt.show()"
   ]
  },
  {
   "cell_type": "code",
   "execution_count": null,
   "metadata": {},
   "outputs": [],
   "source": [
    "df = players.merge(cleaned_players.loc[:, ['player_id', 'element_type']], on='player_id')\n",
    "top_scorer = df.loc[df['element_type'] == 4,:].groupby('player_id', as_index=False)['goals_scored'].sum().sort_values('goals_scored', ascending=False)[:10]\n",
    "top_scorer = top_scorer.merge(cleaned_players.loc[:, ['player_id', 'first_name', 'second_name']])\n",
    "top_scorer['full_name'] = top_scorer['first_name'] + '_' + top_scorer['second_name']\n",
    "\n",
    "plt.figure(figsize=(10, 5))\n",
    "plt.bar(top_scorer['full_name'], top_scorer['goals_scored'])\n",
    "plt.ylabel('#Goals Scored')\n",
    "plt.xticks(rotation=90)\n",
    "plt.title('Top 10 Forward by #Goal Scored')\n",
    "plt.show()\n"
   ]
  },
  {
   "cell_type": "markdown",
   "metadata": {},
   "source": [
    "<span style='color:green'>Even Lukaku can made it on top 10,  C'mon\n",
    "   he's not that bad</span>"
   ]
  },
  {
   "cell_type": "code",
   "execution_count": null,
   "metadata": {},
   "outputs": [],
   "source": [
    "df = players.groupby('player_id', as_index=False)['goals_scored'].sum().sort_values('goals_scored', ascending=False)[:10]\n",
    "df = pd.merge(df, cleaned_players.loc[:, ['player_id', 'first_name', 'second_name']], on='player_id', how='inner')\n",
    "df['full_name'] = df['first_name'] + '_' + df['second_name']\n",
    "\n",
    "plt.figure(figsize=(10, 5))\n",
    "plt.bar(df['full_name'], df['goals_scored'])\n",
    "plt.ylabel('#Goals Scored')\n",
    "plt.xticks(rotation=90)\n",
    "plt.title('Top 10 by #Goal Scored')\n",
    "plt.show()\n"
   ]
  },
  {
   "cell_type": "code",
   "execution_count": null,
   "metadata": {},
   "outputs": [],
   "source": [
    "salah_prev = pd.read_csv(data_path + '/2017-18/' + 'players/' + 'Mohamed_Salah/gw.csv')\n",
    "salah_now = players.loc[players['player_id'] == 253, :]\n",
    "salah_prev_until_this_gw = salah_prev.loc[:salah_now.shape[0]-1, :]\n",
    "\n",
    "now_goals = salah_now['goals_scored'].sum() \n",
    "now_assists =  salah_now['assists'].sum()\n",
    "prev_goals = salah_prev_until_this_gw['goals_scored'].sum() \n",
    "prev_assists = salah_prev_until_this_gw['assists'].sum()\n",
    "\n",
    "n = 2 \n",
    "ind = np.arange(n)\n",
    "width = 0.20\n",
    "\n",
    "fig, ax = plt.subplots()\n",
    "fig.set_size_inches(h=5, w=8)\n",
    "rect_prev = ax.bar(ind, [prev_goals, prev_assists], width, label='2017-18')\n",
    "rect_now = ax.bar(ind+width, [now_goals, now_assists], width, label='2018-19')\n",
    "ax.set_xticks(ind + width / 2)\n",
    "ax.set_xticklabels((\"Goals\", \"Assists\"))\n",
    "ax.set_title(\"Salah's Goals & Assists at the same gw of 17/18 and 18/19\")\n",
    "plt.legend()\n",
    "\n",
    "autolabel(rect_prev)\n",
    "autolabel(rect_now)\n",
    "plt.show()"
   ]
  },
  {
   "cell_type": "markdown",
   "metadata": {},
   "source": [
    "<span style='color:green'>Mo Salah is absolutly not a ONE YEAR WONDER</span>"
   ]
  },
  {
   "cell_type": "code",
   "execution_count": null,
   "metadata": {},
   "outputs": [],
   "source": [
    "top_10 = players.groupby('player_id', as_index=False)['big_chances_created'].sum().sort_values('big_chances_created', ascending=False)[:20]\n",
    "top_10 = top_10.merge(cleaned_players.loc[:, ('player_id', 'first_name', 'second_name')], on='player_id')\n",
    "top_10['fullname'] = top_10['first_name'] + '_' + top_10['second_name']\n",
    "\n",
    "plt.figure(figsize=(10, 5))\n",
    "plt.bar(top_10['fullname'], top_10['big_chances_created'])\n",
    "plt.xticks(rotation=90)\n",
    "plt.title(\"Top 10 by Big Chances Created\")\n",
    "plt.show()\n"
   ]
  },
  {
   "cell_type": "code",
   "execution_count": null,
   "metadata": {},
   "outputs": [],
   "source": [
    "top_by_roi = players.groupby('player_id', as_index=False)['roi'].mean()\n",
    "top_by_roi = top_by_roi.merge(cleaned_players.loc[:,('player_id', 'team', 'element_type', 'first_name', 'second_name')], on='player_id')\n",
    "top_by_roi = top_by_roi.merge(teams.loc[:, ('id', 'name')], left_on='team', right_on='id')\n",
    "top_by_roi.drop(columns=['team','id'], inplace=True)\n",
    "top_by_roi['fullname'] = top_by_roi['first_name'] + '_' + top_by_roi['second_name']\n",
    "top_by_roi.drop(columns=['first_name', 'second_name'], inplace=True)\n",
    "top_by_roi.rename(columns={'name': 'team'}, inplace=True)\n",
    "\n",
    "top_by_roi = pd.merge(top_by_roi, element_types.loc[:, ('id', 'singular_name_short')], left_on='element_type', right_on='id', how='inner')\n",
    "top_by_roi.drop(columns=['id', 'element_type'], inplace=True)\n",
    "top_by_roi.rename(columns={'singular_name_short':'position'}, inplace=True)\n",
    "\n",
    "top_by_roi.sort_values('roi', ascending=False, inplace=True)\n",
    "\n",
    "top_20_roi = top_by_roi[:20]\n",
    "\n",
    "plt.figure(figsize=(10, 5))\n",
    "plt.bar(top_20_roi['fullname'], top_20_roi['roi'])\n",
    "plt.xticks(rotation=90)\n",
    "plt.title('Top 20 by ROI')\n",
    "plt.show()\n"
   ]
  },
  {
   "cell_type": "code",
   "execution_count": null,
   "metadata": {},
   "outputs": [],
   "source": [
    "top_team_roi = top_20_roi.groupby('team', as_index=False)['roi'].sum().sort_values('roi', ascending=False)\n",
    "\n",
    "plt.figure(figsize=(8, 8))\n",
    "plt.pie(top_team_roi['roi'], labels=top_team_roi['team'], autopct='%1.1f%%')\n",
    "plt.title(\"Top 20 ROI players by teams\")\n",
    "plt.show()"
   ]
  },
  {
   "cell_type": "markdown",
   "metadata": {},
   "source": [
    "<span style='color:green'>You should invest more in Wolves, Bournewmouth and Watford</span>"
   ]
  },
  {
   "cell_type": "code",
   "execution_count": null,
   "metadata": {},
   "outputs": [],
   "source": [
    "df = top_20_roi.groupby('position', as_index=False)['roi'].sum().sort_values('roi', ascending=False)\n",
    "plt.figure(figsize=(8, 8))\n",
    "plt.pie(df['roi'], labels=df['position'], autopct='%1.1f%%')\n",
    "plt.title('Top ROI players by Position')\n",
    "plt.show()\n"
   ]
  },
  {
   "cell_type": "markdown",
   "metadata": {},
   "source": [
    "<span style='color:green'>You should invest more in DEF and GK</span>"
   ]
  },
  {
   "cell_type": "code",
   "execution_count": null,
   "metadata": {},
   "outputs": [],
   "source": [
    "top_roi_teams = list(top_20_roi.groupby('team').groups.keys())\n",
    "\n",
    "n_col = 5\n",
    "n_row = int(np.ceil(len(top_roi_teams) / n_col))\n",
    "\n",
    "plt.figure(figsize=(20, 10))\n",
    "for index, team in enumerate(top_roi_teams):\n",
    "    top_20_roi_by_team = top_20_roi.loc[top_20_roi['team'] == team, :]\n",
    "    top_20_roi_by_team_by_position = top_20_roi_by_team.groupby('position', as_index=False)['roi'].sum()\n",
    "    top_20_roi_by_team_by_position['roi'] = top_20_roi_by_team_by_position['roi'] *100\n",
    "    \n",
    "    plt.subplot(n_row, n_col, index+1)\n",
    "    plt.pie(top_20_roi_by_team_by_position['roi'], labels=top_20_roi_by_team_by_position['position'], autopct='%1.1f%%')\n",
    "    plt.gca().set_title(team)\n",
    "        \n",
    "plt.gcf().suptitle(\"Top ROI players by Team & Position\")\n",
    "plt.show()\n"
   ]
  },
  {
   "cell_type": "code",
   "execution_count": null,
   "metadata": {},
   "outputs": [],
   "source": [
    "df = top_by_roi[:50].copy()\n",
    "df = df.loc[df['position'] != 'GKP', :]\n",
    "for player_id in df['player_id']:\n",
    "    player = players.loc[players['player_id'] == player_id,:]\n",
    "    goals_assists = player['goals_scored'].sum() + player['assists'].sum()\n",
    "    df.loc[df['player_id'] == player_id,'goals_assists'] = goals_assists\n",
    "    \n",
    "bins = np.arange(df['goals_assists'].min(), df['goals_assists'].max() + 2, 1)\n",
    "\n",
    "plt.figure(figsize=(8, 5))\n",
    "plt.hist(df['goals_assists'], bins=bins, align='left')\n",
    "plt.xticks(bins[:-1])\n",
    "plt.title(\"top 50 MID & FWD ROI Goals & Assists distribution\")\n",
    "plt.xlabel(\"Goals & Assists\")\n",
    "plt.ylabel(\"Number of players\")\n",
    "plt.show()"
   ]
  },
  {
   "cell_type": "markdown",
   "metadata": {},
   "source": [
    "<span style='color:green'>It seems like there are someone who neither score nor assist, how can he made on the top ROI list? </span>"
   ]
  },
  {
   "cell_type": "code",
   "execution_count": null,
   "metadata": {},
   "outputs": [],
   "source": [
    "df.loc[df['goals_assists'] == 0, :]"
   ]
  },
  {
   "cell_type": "markdown",
   "metadata": {},
   "source": [
    "<span style='color:green'>The guy is Mamadou Sakho, former Liverpool player</span><br>\n",
    "<span style='color:green'>Let's investigate on his stats</span>"
   ]
  },
  {
   "cell_type": "code",
   "execution_count": null,
   "metadata": {},
   "outputs": [],
   "source": [
    "sakho = players.loc[players['player_id'] == 143, :]\n",
    "print(\"Sakho Performances after {0} GWs \".format(sakho.shape[0]))\n",
    "print(\"Goals: \", sakho['goals_scored'].sum())\n",
    "print(\"Assists: \", sakho['assists'].sum())\n",
    "print(\"Clean Sheet: \", sakho['clean_sheets'].sum())\n",
    "print(\"Cost mean: \", sakho['value'].mean())\n",
    "print(\"Total Points: \", sakho['points'].sum())"
   ]
  },
  {
   "cell_type": "code",
   "execution_count": null,
   "metadata": {},
   "outputs": [],
   "source": [
    "def consistency(events):\n",
    "    return sum(events != 0)\n",
    "\n",
    "def chisquare_score(observations, expectaions=None):\n",
    "    return chisquare(observations, expectaions)[0]\n",
    "\n",
    "base_aggregations = [np.sum, np.mean]\n",
    "\n",
    "forwardids = list(cleaned_players.loc[cleaned_players['element_type'] == 4, 'player_id'])\n",
    "forwards = players.loc[[ player_id in forwardids for player_id in players['player_id']], :]\n",
    "\n",
    "fw_stats_by_player_id = forwards.groupby('player_id', as_index=False).agg({\n",
    "    'points': base_aggregations,\n",
    "    'bonus' : base_aggregations,\n",
    "    'goals_scored': base_aggregations + [consistency, chisquare_score],\n",
    "    'assists': base_aggregations + [consistency, chisquare_score],\n",
    "    'roi' : np.mean,\n",
    "    'value' : np.mean,\n",
    "    'target_missed' : np.sum,\n",
    "    'dribbles' : np.sum,\n",
    "    'minutes' : base_aggregations,\n",
    "    'offside' : base_aggregations,\n",
    "    'penalties_missed' : np.sum\n",
    "})\n",
    "\n",
    "#plt.figure(figsize=(10, 8))\n",
    "\n",
    "x = fw_stats_by_player_id['goals_scored']['consistency'] + fw_stats_by_player_id['assists']['consistency']\n",
    "y = fw_stats_by_player_id['goals_scored']['mean'] +  fw_stats_by_player_id['assists']['mean'] \n",
    "#colors = fw_stats_by_player_id['roi']['mean']\n",
    "#sizes = fw_stats_by_player_id['points']['sum']\n",
    "\n",
    "#plt.scatter(x, y, c=colors, cmap='plasma', s=sizes * 10, alpha=0.6)\n",
    "#cbar = plt.colorbar()\n",
    "#plt.xlabel(\"Goals & Assists Consistensy\")\n",
    "#plt.ylabel(\"Goals & Assists Mean\")\n",
    "#cbar.ax.set_ylabel(\"price\")\n",
    "#plt.title(\"Forwards Stats\")\n",
    "#plt.grid(True)\n",
    "#for index, row in fw_stats_by_player_id.iterrows():\n",
    "#    plt.gca().annotate(str(int(row['player_id'])), (x[index], y[index]))\n",
    "#plt.show()"
   ]
  },
  {
   "cell_type": "code",
   "execution_count": null,
   "metadata": {},
   "outputs": [],
   "source": [
    "colors = fw_stats_by_player_id['roi']['mean']\n",
    "\n",
    "plt.figure(figsize=(10, 8))\n",
    "plt.scatter(x, y, c=colors, cmap='plasma', s=300, alpha=0.6)\n",
    "cbar = plt.colorbar()\n",
    "cbar.ax.set_ylabel(\"roi\")\n",
    "\n",
    "plt.xlabel(\"Goals & Assists Consistensy\")\n",
    "plt.ylabel(\"Goals & Assists Mean\")\n",
    "plt.title(\"Forwards Stats\")\n",
    "plt.grid(True)\n",
    "for index, row in fw_stats_by_player_id.iterrows():\n",
    "    plt.gca().annotate(str(int(row['player_id'])), (x[index], y[index]))\n",
    "plt.show()"
   ]
  },
  {
   "cell_type": "markdown",
   "metadata": {},
   "source": [
    "### Top Right cluster"
   ]
  },
  {
   "cell_type": "code",
   "execution_count": null,
   "metadata": {},
   "outputs": [],
   "source": [
    "#top right cluster\n",
    "top_right_bools = (fw_stats_by_player_id['goals_scored']['consistency'] + fw_stats_by_player_id['assists']['consistency']) > 10\n",
    "ids = fw_stats_by_player_id.loc[top_right_bools, :]['player_id']\n",
    "\n",
    "names = cleaned_players.loc[[player_id in list(ids)  for player_id in cleaned_players['player_id']], :]\n",
    "names\n"
   ]
  },
  {
   "cell_type": "markdown",
   "metadata": {},
   "source": [
    "### So, It seems like Aubameyang, Wilson and Jiménez are the best choices for me"
   ]
  },
  {
   "cell_type": "markdown",
   "metadata": {},
   "source": [
    "### Middle cluster"
   ]
  },
  {
   "cell_type": "code",
   "execution_count": null,
   "metadata": {},
   "outputs": [],
   "source": [
    "#Middle cluster\n",
    "goals_assists_consis = fw_stats_by_player_id['goals_scored']['consistency'] + fw_stats_by_player_id['assists']['consistency']\n",
    "middle_bools = (goals_assists_consis == 7) | (goals_assists_consis == 8)\n",
    "ids = fw_stats_by_player_id.loc[middle_bools, :]['player_id']\n",
    "names = cleaned_players.loc[[player_id in list(ids)  for player_id in cleaned_players['player_id']], :]\n",
    "names\n"
   ]
  },
  {
   "cell_type": "markdown",
   "metadata": {},
   "source": [
    "### The False 9s"
   ]
  },
  {
   "cell_type": "code",
   "execution_count": null,
   "metadata": {
    "scrolled": false
   },
   "outputs": [],
   "source": [
    "false_9_stats = forwards.groupby('player_id', as_index=False).agg({\n",
    "    'assists': np.sum,\n",
    "    'big_chances_created' : np.sum,\n",
    "    'completed_passes' : np.sum,\n",
    "    'dribbles' : np.sum,\n",
    "    'goals_scored' : np.sum,\n",
    "    'key_passes' : np.sum,\n",
    "    'tackles' : np.sum,\n",
    "    'creativity' : np.sum,\n",
    "    'influence' : np.sum\n",
    "})\n",
    "false_9_stats = false_9_stats.merge(cleaned_players.loc[:, ['player_id','second_name']], on='player_id')\n",
    "\n",
    "plt.figure(figsize=(30, 30))\n",
    "for index, column in enumerate(false_9_stats.columns):\n",
    "    if(column != 'player_id' and column != 'second_name'):\n",
    "        top = false_9_stats.loc[:, ['second_name', column]].sort_values(column, ascending=False)[:10]\n",
    "        plt.subplot(3, 3, index)\n",
    "        plt.bar(top['second_name'], top[column])\n",
    "        plt.xticks(rotation=90)\n",
    "        plt.title('Top by {0}'.format(column))\n",
    "\n",
    "plt.show()\n",
    "        "
   ]
  },
  {
   "cell_type": "code",
   "execution_count": null,
   "metadata": {},
   "outputs": [],
   "source": [
    "midfielderids = list(cleaned_players.loc[cleaned_players['element_type'] == 3, 'player_id'])\n",
    "midfielders = players.loc[[ player_id in midfielderids for player_id in players['player_id']], :]\n",
    "\n",
    "mid_stats_by_player_id = midfielders.groupby('player_id', as_index=False).agg({\n",
    "    'points': base_aggregations,\n",
    "    'bonus' : base_aggregations,\n",
    "    'goals_scored': base_aggregations + [consistency, chisquare_score],\n",
    "    'assists': base_aggregations + [consistency, chisquare_score],\n",
    "    'roi' : np.mean,\n",
    "    'value' : np.mean,\n",
    "    'target_missed' : np.sum,\n",
    "    'dribbles' : np.sum,\n",
    "    'minutes' : base_aggregations,\n",
    "    'penalties_missed' : np.sum\n",
    "})\n",
    "\n",
    "plt.figure(figsize=(10, 8))\n",
    "\n",
    "x = mid_stats_by_player_id['goals_scored']['consistency'] + mid_stats_by_player_id['assists']['consistency']\n",
    "y = mid_stats_by_player_id['goals_scored']['mean'] +  mid_stats_by_player_id['assists']['mean'] \n",
    "colors = mid_stats_by_player_id['roi']['mean']\n",
    "sizes = mid_stats_by_player_id['bonus']['sum']\n",
    "\n",
    "plt.scatter(x, y, c=colors, cmap='plasma', s=300, alpha=0.6)\n",
    "cbar = plt.colorbar()\n",
    "plt.xlabel(\"Goals & Assists Consistensy\")\n",
    "plt.ylabel(\"Goals & Assists Mean\")\n",
    "cbar.ax.set_ylabel(\"roi\")\n",
    "plt.grid(True)\n",
    "plt.title(\"Midfielders Stats\")\n",
    "for index, row in mid_stats_by_player_id.iterrows():\n",
    "    plt.gca().annotate(str(int(row['player_id'])), (x[index], y[index]))\n",
    "plt.show()"
   ]
  },
  {
   "cell_type": "code",
   "execution_count": null,
   "metadata": {},
   "outputs": [],
   "source": [
    "goals_assists_consis = mid_stats_by_player_id['goals_scored']['consistency'] + mid_stats_by_player_id['assists']['consistency']\n",
    "middle_bools = (goals_assists_consis == 6)\n",
    "ids = mid_stats_by_player_id.loc[middle_bools,:]['player_id']\n",
    "\n",
    "names = cleaned_players.loc[[player_id in list(ids)  for player_id in cleaned_players['player_id']], :]\n",
    "names\n"
   ]
  },
  {
   "cell_type": "markdown",
   "metadata": {},
   "source": [
    "### Top Right cluster"
   ]
  },
  {
   "cell_type": "code",
   "execution_count": null,
   "metadata": {},
   "outputs": [],
   "source": [
    "top_right_bools = (mid_stats_by_player_id['goals_scored']['consistency'] + mid_stats_by_player_id['assists']['consistency']) >= 12 \n",
    "ids = mid_stats_by_player_id.loc[top_right_bools,:]['player_id']\n",
    "\n",
    "names = cleaned_players.loc[[player_id in list(ids)  for player_id in cleaned_players['player_id']], :]\n",
    "names\n"
   ]
  },
  {
   "cell_type": "markdown",
   "metadata": {},
   "source": [
    "### Middle cluster"
   ]
  },
  {
   "cell_type": "code",
   "execution_count": null,
   "metadata": {},
   "outputs": [],
   "source": [
    "goals_assists_consis = mid_stats_by_player_id['goals_scored']['consistency'] + mid_stats_by_player_id['assists']['consistency']\n",
    "middle_bools = (goals_assists_consis >= 8) & (goals_assists_consis <= 10)\n",
    "ids = mid_stats_by_player_id.loc[middle_bools,:]['player_id']\n",
    "\n",
    "names = cleaned_players.loc[[player_id in list(ids)  for player_id in cleaned_players['player_id']], :]\n",
    "names\n"
   ]
  },
  {
   "cell_type": "markdown",
   "metadata": {},
   "source": [
    "### Left cluster"
   ]
  },
  {
   "cell_type": "code",
   "execution_count": null,
   "metadata": {},
   "outputs": [],
   "source": [
    "left_bools = (goals_assists_consis >= 6) & (goals_assists_consis <= 7)\n",
    "ids = mid_stats_by_player_id.loc[left_bools,:]['player_id']\n",
    "\n",
    "names = cleaned_players.loc[[player_id in list(ids)  for player_id in cleaned_players['player_id']], :]\n",
    "names"
   ]
  },
  {
   "cell_type": "code",
   "execution_count": null,
   "metadata": {
    "scrolled": false
   },
   "outputs": [],
   "source": [
    "defenderids = list(cleaned_players.loc[cleaned_players['element_type'] == 2, 'player_id'])\n",
    "defenders = players.loc[[ player_id in defenderids for player_id in players['player_id']], :]\n",
    "\n",
    "def_stats_by_player_id = defenders.groupby('player_id', as_index=False).agg({\n",
    "    'points': base_aggregations,\n",
    "    'bonus' : base_aggregations,\n",
    "    'clean_sheets' : np.sum,\n",
    "    'goals_scored': base_aggregations + [consistency],\n",
    "    'assists': base_aggregations + [consistency],\n",
    "    'roi' : np.mean,\n",
    "    'value' : np.mean,\n",
    "    'dribbles' : np.sum,\n",
    "    'minutes' : base_aggregations,\n",
    "})\n",
    "\n",
    "plt.figure(figsize=(10, 8))\n",
    "\n",
    "x = def_stats_by_player_id['clean_sheets']['sum']\n",
    "y = def_stats_by_player_id['goals_scored']['consistency'] +  def_stats_by_player_id['assists']['consistency'] \n",
    "colors = def_stats_by_player_id['roi']['mean']\n",
    "sizes = def_stats_by_player_id['bonus']['sum']\n",
    "\n",
    "plt.scatter(x, y, c=colors, cmap='plasma', s=300, alpha=0.6)\n",
    "cbar = plt.colorbar()\n",
    "plt.xlabel(\"Total Clean Sheets\")\n",
    "plt.ylabel(\"Goals & Assists Consistency\")\n",
    "cbar.ax.set_ylabel(\"roi\")\n",
    "plt.grid(True)\n",
    "plt.title('Defenders Stats')\n",
    "\n",
    "for index, row in def_stats_by_player_id.iterrows():\n",
    "    plt.gca().annotate(str(int(row['player_id'])), (x[index], y[index]))\n",
    "    \n",
    "plt.show()"
   ]
  },
  {
   "cell_type": "markdown",
   "metadata": {},
   "source": [
    "### Far right cluster"
   ]
  },
  {
   "cell_type": "code",
   "execution_count": null,
   "metadata": {},
   "outputs": [],
   "source": [
    "goals_assists_consis = def_stats_by_player_id['goals_scored']['consistency'] + def_stats_by_player_id['assists']['consistency']\n",
    "total_clean_sheets_consis = def_stats_by_player_id['clean_sheets']['sum']\n",
    "\n",
    "far_right_bools = total_clean_sheets_consis >= 9\n",
    "\n",
    "ids = def_stats_by_player_id.loc[far_right_bools,:]['player_id']\n",
    "\n",
    "names = cleaned_players.loc[[player_id in list(ids)  for player_id in cleaned_players['player_id']], :]\n",
    "names"
   ]
  },
  {
   "cell_type": "markdown",
   "metadata": {},
   "source": [
    "### Middle right cluster"
   ]
  },
  {
   "cell_type": "code",
   "execution_count": null,
   "metadata": {},
   "outputs": [],
   "source": [
    "middle_right_bools = (total_clean_sheets_consis >= 6) & (total_clean_sheets_consis <= 8)\n",
    "\n",
    "ids = def_stats_by_player_id.loc[middle_right_bools,:]['player_id']\n",
    "\n",
    "names = cleaned_players.loc[[player_id in list(ids)  for player_id in cleaned_players['player_id']], :]\n",
    "names"
   ]
  },
  {
   "cell_type": "markdown",
   "metadata": {},
   "source": [
    "### Far top cluster"
   ]
  },
  {
   "cell_type": "code",
   "execution_count": null,
   "metadata": {},
   "outputs": [],
   "source": [
    "far_top_bools = goals_assists_consis >= 5\n",
    "\n",
    "ids = def_stats_by_player_id.loc[far_top_bools,:]['player_id']\n",
    "\n",
    "names = cleaned_players.loc[[player_id in list(ids)  for player_id in cleaned_players['player_id']], :]\n",
    "names"
   ]
  },
  {
   "cell_type": "markdown",
   "metadata": {},
   "source": [
    "### Middle top cluster"
   ]
  },
  {
   "cell_type": "code",
   "execution_count": null,
   "metadata": {},
   "outputs": [],
   "source": [
    "middle_top_bools = (goals_assists_consis >= 3) & (goals_assists_consis <= 4)\n",
    "\n",
    "ids = def_stats_by_player_id.loc[middle_top_bools,:]['player_id']\n",
    "\n",
    "names = cleaned_players.loc[[player_id in list(ids)  for player_id in cleaned_players['player_id']], :]\n",
    "names"
   ]
  },
  {
   "cell_type": "code",
   "execution_count": null,
   "metadata": {},
   "outputs": [],
   "source": [
    "def save_consistensy(saves):\n",
    "    return sum(saves > 5)\n",
    "goalkeeperids = list(cleaned_players.loc[cleaned_players['element_type'] == 1, 'player_id'])\n",
    "goalkeepers = players.loc[[ player_id in goalkeeperids for player_id in players['player_id']], :]\n",
    "\n",
    "gk_stats_by_player_id = goalkeepers.groupby('player_id', as_index=False).agg({\n",
    "    'points': base_aggregations,\n",
    "    'bonus' : base_aggregations,\n",
    "    'clean_sheets' : np.sum,\n",
    "    'saves' : base_aggregations + [save_consistensy],\n",
    "    'roi' : np.mean,\n",
    "    'value' : np.mean,\n",
    "    'dribbles' : np.sum,\n",
    "    'minutes' : base_aggregations,\n",
    "})\n",
    "\n",
    "plt.figure(figsize=(10, 8))\n",
    "\n",
    "x = gk_stats_by_player_id['clean_sheets']['sum']\n",
    "y = gk_stats_by_player_id['saves']['save_consistensy']\n",
    "colors = gk_stats_by_player_id['roi']['mean']\n",
    "sizes = gk_stats_by_player_id['points']['sum']\n",
    "\n",
    "plt.scatter(x, y, c=colors, cmap='plasma', s=sizes * 5, alpha=0.6)\n",
    "cbar = plt.colorbar()\n",
    "plt.xlabel(\"Total Clean Sheets\")\n",
    "plt.ylabel(\"Saves Consistency\")\n",
    "cbar.ax.set_ylabel(\"roi\")\n",
    "plt.title(\"Goal Keepers Stats\")\n",
    "plt.grid(True)\n",
    "\n",
    "for index, row in gk_stats_by_player_id.iterrows():\n",
    "    plt.gca().annotate(str(int(row['player_id'])), (x[index], y[index]))\n",
    "    \n",
    "plt.show()"
   ]
  },
  {
   "cell_type": "code",
   "execution_count": null,
   "metadata": {},
   "outputs": [],
   "source": [
    "ids = [468, 490, 498, 88, 260, 282, 400]\n",
    "names = cleaned_players.loc[[player_id in list(ids)  for player_id in cleaned_players['player_id']], :]\n",
    "names"
   ]
  },
  {
   "cell_type": "markdown",
   "metadata": {},
   "source": [
    "## The Crossers"
   ]
  },
  {
   "cell_type": "code",
   "execution_count": null,
   "metadata": {},
   "outputs": [],
   "source": [
    "crossers = players.groupby('player_id', as_index=False)['open_play_crosses'].sum()\n",
    "\n",
    "crossers = crossers.merge(cleaned_players.loc[:, ['player_id', 'fullname', 'element_type','team']], on='player_id')\n",
    "\n",
    "#merge with elemen_types\n",
    "crossers = pd.merge(crossers, element_types.loc[:, ['id', 'singular_name_short']], left_on='element_type', right_on='id')\n",
    "crossers.drop(columns=['id', 'element_type'], inplace=True)\n",
    "crossers.rename(columns={'singular_name_short': 'position'}, inplace=True)\n",
    "\n",
    "#merge with teams\n",
    "crossers = pd.merge(crossers, teams.loc[:, ['id', 'name']], left_on='team', right_on='id')\n",
    "crossers.drop(columns=['id', 'team'], inplace=True)\n",
    "crossers.rename(columns={'name':'team'}, inplace=True)\n",
    "\n",
    "top = crossers.sort_values('open_play_crosses', ascending=False)[:20]\n",
    "\n",
    "plt.figure(figsize=(15, 5))\n",
    "plt.subplot(121)\n",
    "plt.bar(top['fullname'], top['open_play_crosses'])\n",
    "plt.xticks(rotation=90)\n",
    "plt.title(\"Top crossers\")\n",
    "\n",
    "n_def, n_mid = top.loc[top['position'] == 'DEF', :].shape[0],top.loc[top['position'] == 'MID', :].shape[0]\n",
    "\n",
    "plt.subplot(122)\n",
    "plt.pie([n_def, n_mid], labels=['DEF', 'MID'], autopct='%1.1f%%')\n",
    "plt.title(\"Position distribution by Crosses\")\n",
    "plt.show()\n"
   ]
  },
  {
   "cell_type": "code",
   "execution_count": null,
   "metadata": {
    "scrolled": false
   },
   "outputs": [],
   "source": [
    "passers = players.groupby('player_id', as_index=False)['attempted_passes'].sum()\n",
    "crossers = crossers.merge(passers, on='player_id')\n",
    "crosses_by_team = crossers.groupby('team', as_index=False).agg({\n",
    "    'open_play_crosses' : np.sum,\n",
    "    'attempted_passes' : np.sum\n",
    "})\n",
    "\n",
    "top_crosses_team = crosses_by_team.sort_values('open_play_crosses', ascending=False)\n",
    "plt.figure(figsize=(10, 8))\n",
    "x = top_crosses_team['attempted_passes']\n",
    "y = top_crosses_team['open_play_crosses']\n",
    "plt.scatter(x, y)\n",
    "plt.xlabel('Total Attempted Passes')\n",
    "plt.ylabel('Total Crosses')\n",
    "\n",
    "for index, row in top_crosses_team.iterrows():\n",
    "    plt.gca().annotate(row['team'], (x[index], y[index]), rotation=-20)\n",
    "    \n",
    "plt.show()"
   ]
  },
  {
   "cell_type": "markdown",
   "metadata": {},
   "source": [
    "## The Error Makers"
   ]
  },
  {
   "cell_type": "code",
   "execution_count": null,
   "metadata": {},
   "outputs": [],
   "source": [
    "players_stats = players.groupby('player_id', as_index=False).agg({\n",
    "    'own_goals' : np.sum,\n",
    "    'errors_leading_to_goal' : np.sum,\n",
    "    'errors_leading_to_goal_attempt' : np.sum\n",
    "})\n",
    "players_stats = pd.merge(players_stats, cleaned_players.loc[:, ['player_id', 'fullname', 'element_type', 'team']], on='player_id')\n",
    "\n",
    "players_stats = pd.merge(players_stats, element_types.loc[:, ['id', 'singular_name_short']], left_on='element_type', right_on='id')\n",
    "players_stats.drop(columns=['element_type', 'id'], inplace=True)\n",
    "players_stats.rename(columns={'singular_name_short':'position'}, inplace=True)\n",
    "\n",
    "players_stats = pd.merge(players_stats, teams.loc[:, ['id','name']], left_on='team', right_on='id')\n",
    "players_stats.drop(columns=['team','id'], inplace=True)\n",
    "players_stats.rename(columns={'name': 'team'}, inplace=True)\n",
    "\n",
    "players_stats['errors'] = players_stats['own_goals'] + players_stats['errors_leading_to_goal'] + players_stats['errors_leading_to_goal_attempt']\n",
    "\n",
    "error_makers_by_team = players_stats.groupby('team', as_index=False)['errors'].sum().sort_values('errors', ascending=False)\n",
    "\n",
    "plt.figure(figsize=(8, 5))\n",
    "plt.bar(error_makers_by_team['team'], error_makers_by_team['errors'])\n",
    "plt.xticks(rotation=90)\n",
    "plt.ylabel('Total Errors')\n",
    "plt.title('Errors by Team')\n",
    "plt.show()\n"
   ]
  },
  {
   "cell_type": "markdown",
   "metadata": {},
   "source": [
    "## Correlations between Bonus and other features"
   ]
  },
  {
   "cell_type": "code",
   "execution_count": null,
   "metadata": {},
   "outputs": [],
   "source": [
    "df = pd.merge(players, cleaned_players.loc[:, ['player_id', 'element_type', 'team']], on='player_id')\n",
    "df = pd.merge(df, element_types.loc[:, ['id', 'singular_name_short']], left_on='element_type', right_on='id')\n",
    "df.drop(columns=['element_type', 'id_y','id_x'], inplace=True)\n",
    "df.rename(columns={'singular_name_short': 'position'}, inplace=True)\n",
    "\n",
    "df = pd.merge(df, teams.loc[:, ['id', 'name']], left_on='team', right_on='id')\n",
    "df.drop(columns=['id', 'team'], inplace=True)\n",
    "df.rename(columns={'name':'team'}, inplace=True)\n",
    "columns_to_drop = ['gw', 'player_id', 'fixture', 'kickoff_time','kickoff_time_formatted','selected','team_a_score', 'team_h_score', 'position', 'team', 'opponent_team']\n",
    "\n",
    "attackers = df.loc[df['position'] == 'FWD',:].drop(columns=columns_to_drop)\n",
    "\n",
    "bonus_corr = attackers.corr()['bonus']\n",
    "bonus_corr = bonus_corr[np.abs(bonus_corr) > 0.2].sort_values(ascending=False)\n",
    "\n",
    "print(\"Forwards Bonus correlation\")\n",
    "bonus_corr\n"
   ]
  },
  {
   "cell_type": "markdown",
   "metadata": {},
   "source": [
    "<span style='color:green'>Surprisingly, target_missed has positive correlation with bonus?</span><br>\n",
    "<span style='color:green'>Maybe the more they miss targets means the more opportunities they try, and that results in the more bonus he got</span>"
   ]
  },
  {
   "cell_type": "code",
   "execution_count": null,
   "metadata": {},
   "outputs": [],
   "source": [
    "attackers = df.loc[df['position'] == 'MID',:].drop(columns=columns_to_drop)\n",
    "\n",
    "bonus_corr = attackers.corr()['bonus']\n",
    "bonus_corr = bonus_corr[np.abs(bonus_corr) > 0.2].sort_values(ascending=False)\n",
    "\n",
    "print(\"Midfielders Bonus correlation\")\n",
    "bonus_corr"
   ]
  },
  {
   "cell_type": "markdown",
   "metadata": {},
   "source": [
    "<span style='color:green'>Kind of same as Forwards</span>"
   ]
  },
  {
   "cell_type": "code",
   "execution_count": null,
   "metadata": {},
   "outputs": [],
   "source": [
    "attackers = df.loc[df['position'] == 'DEF',:].drop(columns=columns_to_drop)\n",
    "\n",
    "bonus_corr = attackers.corr()['bonus']\n",
    "bonus_corr = bonus_corr[np.abs(bonus_corr) > 0.2].sort_values(ascending=False)\n",
    "\n",
    "print(\"Defenders Bonus correlation\")\n",
    "bonus_corr"
   ]
  },
  {
   "cell_type": "markdown",
   "metadata": {},
   "source": [
    "## Influence, Creativity and Threat analysis\n",
    " source: https://www.premierleague.com/news/65567\n",
    "\n",
    "#### 1. Influence\n",
    "\n",
    "Influence is the first measurement. This evaluates the degree to which that player has made an impact on a single match or throughout the season.\n",
    "\n",
    "It takes into account events and actions that could directly or indirectly effect the outcome of the fixture.\n",
    "\n",
    "At the top level these are decisive actions like goals and assists. But the Influence score also processes significant defensive actions to analyse the effectiveness of defenders and goalkeepers.\n",
    "\n",
    "\n",
    "#### 2. Creativity\n",
    "Creativity assesses player performance in terms of producing goalscoring opportunities for others. It can be used as a guide to identify the players most likely to supply assists.\n",
    "\n",
    "While this analyses frequency of passing and crossing, it also considers pitch location and quality of the final ball.\n",
    "\n",
    "\n",
    "#### 3. Threat\n",
    "This is the third measure, producing a value that examines a player's threat on goal. It gauges individuals most likely to score goals.\n",
    "\n",
    "While attempts are the key action, the Index looks at pitch location, giving greater weight to actions that are regarded as the best chances to score.\n",
    "\n",
    "All three of these scores are combined to create an overall ICT Index score. That then offers a single figure that presents a view on that player as an FPL asset"
   ]
  },
  {
   "cell_type": "code",
   "execution_count": null,
   "metadata": {},
   "outputs": [],
   "source": [
    "x = players['influence']\n",
    "y = players['creativity']\n",
    "colors = players['threat']\n",
    "sizes = players['ict_index']\n",
    "\n",
    "plt.figure(figsize=(10,8))\n",
    "plt.scatter(x, y, c=colors, cmap='plasma', s=sizes*10, alpha=0.5)\n",
    "cbar = plt.colorbar()\n",
    "plt.title(\"Influence, Creativity, Threat and ICT index relation\")\n",
    "plt.xlabel(\"Influence\")\n",
    "plt.ylabel(\"Creativity\")\n",
    "cbar.ax.set_ylabel(\"Threat\")\n",
    "plt.show()"
   ]
  },
  {
   "cell_type": "code",
   "execution_count": null,
   "metadata": {},
   "outputs": [],
   "source": [
    "attributes = ['influence', 'creativity', 'threat', 'ict_index']\n",
    "df = players[attributes]\n",
    "corr_mx = df.corr()\n",
    "corr_mx"
   ]
  },
  {
   "cell_type": "code",
   "execution_count": null,
   "metadata": {},
   "outputs": [],
   "source": [
    "scatter_matrix(df, figsize=(15, 7), alpha=0.4)\n",
    "plt.show()"
   ]
  },
  {
   "cell_type": "code",
   "execution_count": null,
   "metadata": {},
   "outputs": [],
   "source": [
    "df = players.groupby('player_id', as_index=False).agg({\n",
    "    'ict_index': np.sum,\n",
    "    'bps': np.sum,\n",
    "    'bonus' : np.sum\n",
    "})\n",
    "df = df.merge(cleaned_players.loc[:, ['player_id', 'fullname']], on='player_id')\n",
    "top_by_ict = df.sort_values('ict_index', ascending=False)[:20]\n",
    "\n",
    "plt.figure(figsize=(10, 8))\n",
    "plt.bar(top_by_ict['fullname'], top_by_ict['ict_index'])\n",
    "plt.xticks(rotation=90)\n",
    "plt.ylabel('Total ICT index')\n",
    "plt.show()"
   ]
  },
  {
   "cell_type": "code",
   "execution_count": null,
   "metadata": {},
   "outputs": [],
   "source": [
    "top_by_bps = df.sort_values('bps', ascending=False)[:20]\n",
    "bps = top_by_bps['bps']\n",
    "bonus = top_by_bps['bonus']\n",
    "\n",
    "plt.figure(figsize=(10, 5))\n",
    "plt.bar(top_by_bps['fullname'], top_by_bps['bps'])\n",
    "plt.xticks(rotation=90)\n",
    "plt.ylabel('Total BPS')\n",
    "plt.show()"
   ]
  },
  {
   "cell_type": "code",
   "execution_count": null,
   "metadata": {},
   "outputs": [],
   "source": [
    "performance_attributes = ['ict_index', 'influence','creativity','threat','assists', 'attempted_passes', 'big_chances_created', 'big_chances_missed', 'clean_sheets', 'clearances_blocks_interceptions', 'completed_passes', 'dribbles', 'ea_index', 'errors_leading_to_goal','errors_leading_to_goal_attempt','fouls','goals_conceded', 'goals_scored', 'key_passes', 'minutes', 'offside', 'open_play_crosses', 'own_goals', 'penalties_conceded', 'penalties_missed', 'penalties_saved', 'recoveries', 'red_cards', 'yellow_cards', 'saves','tackled', 'tackles','target_missed']\n",
    "computed_index = ['ict_index', 'influence', 'creativity', 'threat']\n",
    "\n",
    "df = players[['player_id'] + performance_attributes]\n",
    "df = pd.merge(df, cleaned_players.loc[:, ['player_id', 'element_type', 'team']], on='player_id')\n",
    "\n",
    "df = pd.merge(df, element_types.loc[:, ['id', 'singular_name_short']], left_on='element_type', right_on='id')\n",
    "df.drop(columns=['id', 'element_type'], inplace=True)\n",
    "df.rename(columns={'singular_name_short': 'position'}, inplace=True)\n",
    "\n",
    "df = pd.merge(df, teams.loc[:, ['id', 'name']], left_on='team', right_on='id')\n",
    "df.drop(columns=['id','team'], inplace=True)\n",
    "df.rename(columns={'name': 'team'}, inplace=True)\n",
    "\n",
    "fw_influence_corr = forwards[performance_attributes].corr()['influence'].sort_values(ascending=False)\n",
    "fw_influence_corr = fw_influence_corr[[attr not in computed_index for attr in list(fw_influence_corr.index)]]\n",
    "fw_influence_corr = fw_influence_corr[np.abs(fw_influence_corr) > 0.4]   \n",
    "\n",
    "fw_influence_corr\n",
    "\n"
   ]
  }
 ],
 "metadata": {
  "kernelspec": {
   "display_name": "Python 3",
   "language": "python",
   "name": "python3"
  },
  "language_info": {
   "codemirror_mode": {
    "name": "ipython",
    "version": 3
   },
   "file_extension": ".py",
   "mimetype": "text/x-python",
   "name": "python",
   "nbconvert_exporter": "python",
   "pygments_lexer": "ipython3",
   "version": "3.6.6"
  }
 },
 "nbformat": 4,
 "nbformat_minor": 2
}
